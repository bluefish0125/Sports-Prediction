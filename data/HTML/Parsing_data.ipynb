{
 "cells": [
  {
   "cell_type": "code",
   "execution_count": 1,
   "id": "fdd374eb",
   "metadata": {},
   "outputs": [],
   "source": [
    "import os\n",
    "import pandas as pd\n",
    "from bs4 import BeautifulSoup\n",
    "from io import StringIO\n",
    "import re\n",
    "import datetime\n",
    "pd.set_option('display.max_columns', None)\n",
    "pd.set_option('display.min_rows', None)"
   ]
  },
  {
   "cell_type": "code",
   "execution_count": 2,
   "id": "7c6d86b6",
   "metadata": {},
   "outputs": [],
   "source": [
    "SCORES_DIR = '/Users/benjamincheng/Documents/GitHub/Sports-Betting/data/HTML/scores'"
   ]
  },
  {
   "cell_type": "code",
   "execution_count": 3,
   "id": "a848f357",
   "metadata": {},
   "outputs": [],
   "source": [
    "box_scores = os.listdir(SCORES_DIR)"
   ]
  },
  {
   "cell_type": "code",
   "execution_count": 4,
   "id": "f9d6aadb",
   "metadata": {},
   "outputs": [],
   "source": [
    "box_scores = [os.path.join(SCORES_DIR, f) for f in box_scores if f.endswith(\".html\") and (f.startswith(\"20240406\"))] #or f.startswith(\"201710\")or f.startswith(\"201711\")or f.startswith(\"201712\"))]"
   ]
  },
  {
   "cell_type": "code",
   "execution_count": 5,
   "id": "a281245b",
   "metadata": {},
   "outputs": [
    {
     "data": {
      "text/plain": [
       "['/Users/benjamincheng/Documents/GitHub/Sports-Betting/data/HTML/scores/202404060DEN.html',\n",
       " '/Users/benjamincheng/Documents/GitHub/Sports-Betting/data/HTML/scores/202404060MEM.html',\n",
       " '/Users/benjamincheng/Documents/GitHub/Sports-Betting/data/HTML/scores/202404060BRK.html',\n",
       " '/Users/benjamincheng/Documents/GitHub/Sports-Betting/data/HTML/scores/202404060LAL.html']"
      ]
     },
     "execution_count": 5,
     "metadata": {},
     "output_type": "execute_result"
    }
   ],
   "source": [
    "box_scores"
   ]
  },
  {
   "cell_type": "code",
   "execution_count": 6,
   "id": "a90bb555",
   "metadata": {},
   "outputs": [],
   "source": [
    "def parse_html(box_scores):\n",
    "    with open(box_scores) as f:\n",
    "        html = f.read()\n",
    "        \n",
    "    soup = BeautifulSoup(html)\n",
    "    [s.decompose() for s in soup.select(\"tr.over_header\")]\n",
    "    [s.decompose() for s in soup.select(\"tr.thead\")]\n",
    "    \n",
    "    return soup"
   ]
  },
  {
   "cell_type": "code",
   "execution_count": 7,
   "id": "d1f47b67",
   "metadata": {},
   "outputs": [],
   "source": [
    "def read_line_score(soup):\n",
    "    html = StringIO(str(soup))\n",
    "    line_score = pd.read_html(html, attrs = {\"id\": \"line_score\"})[0]\n",
    "    columns = list(line_score.columns)\n",
    "    columns[0] = \"Teams\"\n",
    "    columns[-1] = \"Total\"\n",
    "    line_score.columns = columns \n",
    "    \n",
    "    line_score = line_score[[\"Teams\", \"Total\"]]\n",
    "    return line_score"
   ]
  },
  {
   "cell_type": "code",
   "execution_count": 8,
   "id": "b399e97b",
   "metadata": {},
   "outputs": [],
   "source": [
    "def four_factors(soup):\n",
    "    html = StringIO(str(soup))\n",
    "    factors = pd.read_html(html, attrs = {\"id\": \"four_factors\"})[0]\n",
    "    columns = list(factors.columns)\n",
    "    factors.columns = columns\n",
    "    \n",
    "    factors = factors[['Pace', 'eFG%', 'TOV%', 'ORB%', 'FT/FGA', 'ORtg']]\n",
    "    return factors"
   ]
  },
  {
   "cell_type": "code",
   "execution_count": 9,
   "id": "7ab32d96",
   "metadata": {},
   "outputs": [],
   "source": [
    "def read_stats(soup, team, stat):\n",
    "    html = StringIO(str(soup))\n",
    "    stats = pd.read_html(html, attrs = {\"id\": f\"box-{team}-game-{stat}\"}, index_col = 0)[0]\n",
    "    stats = stats.apply(pd.to_numeric, errors = \"coerce\")\n",
    "    return stats"
   ]
  },
  {
   "cell_type": "code",
   "execution_count": 10,
   "id": "3d6f2a2b",
   "metadata": {},
   "outputs": [],
   "source": [
    "def read_season_info(soup):\n",
    "    nav = soup.select(\"#bottom_nav_container\")[0]\n",
    "    hrefs = [a[\"href\"] for a in nav.find_all(\"a\")]\n",
    "    season = os.path.basename(hrefs[1]).split(\"_\")[0]\n",
    "    return season"
   ]
  },
  {
   "cell_type": "code",
   "execution_count": 11,
   "id": "91a6391d",
   "metadata": {},
   "outputs": [],
   "source": [
    "def read_record(soup):\n",
    "    he = []\n",
    "    html = StringIO(str(soup))\n",
    "    scoreboxes = soup.find_all(class_='scorebox')\n",
    "    score_pattern = re.compile(r'\\d+-\\d+')\n",
    "    \n",
    "    for scorebox in scoreboxes:\n",
    "        # Find all div elements within each scorebox that match the score pattern\n",
    "        score_divs = scorebox.find_all('div', string=score_pattern)\n",
    "        # If any matching divs are found\n",
    "        if score_divs:\n",
    "            # Loop through each matching div\n",
    "            for score_div in score_divs:\n",
    "                # Do something with the div\n",
    "                record = score_div.text.split(\"-\")\n",
    "                df_record = pd.DataFrame([record])\n",
    "                he.append(df_record)\n",
    "    df = pd.concat(he)\n",
    "    columns = list(df.columns)\n",
    "    columns[0] = \"Wins\"\n",
    "    columns[1] = \"Losses\"\n",
    "    df.columns = columns\n",
    "    df = df.reset_index()\n",
    "    del df[\"index\"]\n",
    "    return df"
   ]
  },
  {
   "cell_type": "code",
   "execution_count": 12,
   "id": "b2ffe58b",
   "metadata": {},
   "outputs": [],
   "source": [
    "base_cols = None\n",
    "games = []\n",
    "\n",
    "for box_score in box_scores:\n",
    "    soup = parse_html(box_score)\n",
    "    line_score = read_line_score(soup)\n",
    "    factors = four_factors(soup)\n",
    "    try:\n",
    "        records = read_record(soup)\n",
    "    except:\n",
    "        continue\n",
    "    teams = list(line_score['Teams'])\n",
    "    summaries = []\n",
    "    for team in teams:\n",
    "        basic = read_stats(soup, team, \"basic\")\n",
    "        advanced = read_stats(soup, team, \"advanced\")\n",
    "        advanced.drop(\"MP\", axis=1, inplace=True)\n",
    "        total = pd.concat([basic.iloc[-1,:], advanced.iloc[-1,:]])\n",
    "        total.index = total.index.str.lower()\n",
    "\n",
    "        maxes = pd.concat([basic.iloc[:-1].max(), advanced.iloc[:-1].max()])\n",
    "        maxes.index = maxes.index.str.lower() + \"maxes\"\n",
    "\n",
    "        summary = pd.concat([total, maxes])\n",
    "\n",
    "        if base_cols is None:\n",
    "            base_cols = list(summary.index.drop_duplicates(keep='first'))\n",
    "            base_cols = [b for b in base_cols if \"bpm\" not in b]\n",
    "\n",
    "        summary = summary[base_cols]\n",
    "        summaries.append(summary)\n",
    "\n",
    "    summary = pd.concat(summaries, axis =1).T\n",
    "\n",
    "    game = pd.concat([summary, line_score,factors, records], axis = 1)\n",
    "    game['home'] = [0,1]\n",
    "\n",
    "    game_opp = game.iloc[::-1].reset_index()\n",
    "    game_opp.columns += \"_opp\"\n",
    "\n",
    "    full_game = pd.concat([game, game_opp], axis = 1)\n",
    "\n",
    "    full_game[\"season\"] = read_season_info(soup)\n",
    "    full_game[\"date\"] = os.path.basename(box_score)[:8]\n",
    "    full_game[\"date\"] = pd.to_datetime(full_game[\"date\"], format = \"%Y%m%d\")\n",
    "    full_game[\"won\"] = full_game[\"Total\"] > full_game[\"Total_opp\"]\n",
    "\n",
    "    games.append(full_game)\n",
    "\n",
    "    if (len(games) % 100 == 0):\n",
    "        print(f\"{len(games)} / {len(box_scores)}\")"
   ]
  },
  {
   "cell_type": "code",
   "execution_count": 13,
   "id": "3ab1e6d1",
   "metadata": {
    "scrolled": true
   },
   "outputs": [],
   "source": [
    "green_eggs = pd.concat(games, ignore_index = True)"
   ]
  },
  {
   "cell_type": "code",
   "execution_count": 14,
   "id": "6caa3d99",
   "metadata": {},
   "outputs": [
    {
     "data": {
      "text/plain": [
       "0   2024-04-06\n",
       "1   2024-04-06\n",
       "2   2024-04-06\n",
       "3   2024-04-06\n",
       "4   2024-04-06\n",
       "5   2024-04-06\n",
       "6   2024-04-06\n",
       "7   2024-04-06\n",
       "Name: date, dtype: datetime64[ns]"
      ]
     },
     "execution_count": 14,
     "metadata": {},
     "output_type": "execute_result"
    }
   ],
   "source": [
    "green_eggs['date']"
   ]
  },
  {
   "cell_type": "code",
   "execution_count": 15,
   "id": "cff799f9",
   "metadata": {},
   "outputs": [],
   "source": [
    "def setup(df, whole):\n",
    "    date = whole['date'].iloc[-1][:10]\n",
    "    before = pd.to_datetime(date)\n",
    "    #after = pd.Timestamp(datetime.date(2024,12,12))\n",
    "\n",
    "     # Subtract a year from 'date' column values exceeding the threshold\n",
    "    for index,row in df.iterrows():\n",
    "        if row['date'] <= before:\n",
    "            df.drop(labels=index, axis=0, inplace=True)\n",
    "    \n",
    "#     for index,row in df.iterrows():\n",
    "#         if row['date'] > after:\n",
    "#             df.drop(labels=index, axis=0, inplace=True)\n",
    "            \n",
    "    df = df.sort_values(\"date\")\n",
    "    df = df.reset_index(drop=True)\n",
    "    \n",
    "    del df['index_opp']\n",
    "    del df[\"mpmaxes\"]\n",
    "    del df[\"mpmaxes_opp\"]\n",
    "    del df['+/-']\n",
    "    del df[\"+/-_opp\"]\n",
    "    \n",
    "    return df"
   ]
  },
  {
   "cell_type": "code",
   "execution_count": 16,
   "id": "085900bf",
   "metadata": {},
   "outputs": [],
   "source": [
    "folder_path = \"/Users/benjamincheng/Documents/GitHub/Sports-Betting/data/raw_data/\"\n",
    "csv_path = \"NBA_2018_2024.csv\"\n",
    "complete_path = folder_path + csv_path\n",
    "whole = pd.read_csv(complete_path, index_col=0)"
   ]
  },
  {
   "cell_type": "code",
   "execution_count": 17,
   "id": "a2897442",
   "metadata": {
    "scrolled": true
   },
   "outputs": [
    {
     "data": {
      "text/plain": [
       "0              2017-10-17\n",
       "1              2017-10-17\n",
       "2              2017-10-17\n",
       "3              2017-10-17\n",
       "4              2017-10-18\n",
       "5              2017-10-18\n",
       "6              2017-10-18\n",
       "7              2017-10-18\n",
       "8              2017-10-18\n",
       "9              2017-10-18\n",
       "10             2017-10-18\n",
       "11             2017-10-18\n",
       "12             2017-10-18\n",
       "13             2017-10-18\n",
       "14             2017-10-18\n",
       "15             2017-10-18\n",
       "16             2017-10-18\n",
       "17             2017-10-18\n",
       "18             2017-10-18\n",
       "19             2017-10-18\n",
       "20             2017-10-18\n",
       "21             2017-10-18\n",
       "22             2017-10-18\n",
       "23             2017-10-18\n",
       "24             2017-10-18\n",
       "25             2017-10-18\n",
       "26             2017-10-19\n",
       "27             2017-10-19\n",
       "28             2017-10-19\n",
       "29             2017-10-19\n",
       "             ...         \n",
       "4     2024-04-04 00:00:00\n",
       "5     2024-04-04 00:00:00\n",
       "6     2024-04-04 00:00:00\n",
       "7     2024-04-04 00:00:00\n",
       "8     2024-04-04 00:00:00\n",
       "9     2024-04-04 00:00:00\n",
       "0     2024-04-05 00:00:00\n",
       "1     2024-04-05 00:00:00\n",
       "2     2024-04-05 00:00:00\n",
       "3     2024-04-05 00:00:00\n",
       "4     2024-04-05 00:00:00\n",
       "5     2024-04-05 00:00:00\n",
       "6     2024-04-05 00:00:00\n",
       "7     2024-04-05 00:00:00\n",
       "8     2024-04-05 00:00:00\n",
       "9     2024-04-05 00:00:00\n",
       "10    2024-04-05 00:00:00\n",
       "11    2024-04-05 00:00:00\n",
       "12    2024-04-05 00:00:00\n",
       "13    2024-04-05 00:00:00\n",
       "14    2024-04-05 00:00:00\n",
       "15    2024-04-05 00:00:00\n",
       "16    2024-04-05 00:00:00\n",
       "17    2024-04-05 00:00:00\n",
       "18    2024-04-05 00:00:00\n",
       "19    2024-04-05 00:00:00\n",
       "20    2024-04-05 00:00:00\n",
       "21    2024-04-05 00:00:00\n",
       "22    2024-04-05 00:00:00\n",
       "23    2024-04-05 00:00:00\n",
       "Name: date, Length: 16254, dtype: object"
      ]
     },
     "execution_count": 17,
     "metadata": {},
     "output_type": "execute_result"
    }
   ],
   "source": [
    "whole['date']"
   ]
  },
  {
   "cell_type": "code",
   "execution_count": 18,
   "id": "596fb7ab",
   "metadata": {},
   "outputs": [],
   "source": [
    "df = setup(green_eggs, whole)\n",
    "complete = pd.concat([whole,df], axis=0)"
   ]
  },
  {
   "cell_type": "code",
   "execution_count": 19,
   "id": "c657a465",
   "metadata": {
    "scrolled": true
   },
   "outputs": [
    {
     "data": {
      "text/plain": [
       "0              2017-10-17\n",
       "1              2017-10-17\n",
       "2              2017-10-17\n",
       "3              2017-10-17\n",
       "4              2017-10-18\n",
       "5              2017-10-18\n",
       "6              2017-10-18\n",
       "7              2017-10-18\n",
       "8              2017-10-18\n",
       "9              2017-10-18\n",
       "10             2017-10-18\n",
       "11             2017-10-18\n",
       "12             2017-10-18\n",
       "13             2017-10-18\n",
       "14             2017-10-18\n",
       "15             2017-10-18\n",
       "16             2017-10-18\n",
       "17             2017-10-18\n",
       "18             2017-10-18\n",
       "19             2017-10-18\n",
       "20             2017-10-18\n",
       "21             2017-10-18\n",
       "22             2017-10-18\n",
       "23             2017-10-18\n",
       "24             2017-10-18\n",
       "25             2017-10-18\n",
       "26             2017-10-19\n",
       "27             2017-10-19\n",
       "28             2017-10-19\n",
       "29             2017-10-19\n",
       "             ...         \n",
       "2     2024-04-05 00:00:00\n",
       "3     2024-04-05 00:00:00\n",
       "4     2024-04-05 00:00:00\n",
       "5     2024-04-05 00:00:00\n",
       "6     2024-04-05 00:00:00\n",
       "7     2024-04-05 00:00:00\n",
       "8     2024-04-05 00:00:00\n",
       "9     2024-04-05 00:00:00\n",
       "10    2024-04-05 00:00:00\n",
       "11    2024-04-05 00:00:00\n",
       "12    2024-04-05 00:00:00\n",
       "13    2024-04-05 00:00:00\n",
       "14    2024-04-05 00:00:00\n",
       "15    2024-04-05 00:00:00\n",
       "16    2024-04-05 00:00:00\n",
       "17    2024-04-05 00:00:00\n",
       "18    2024-04-05 00:00:00\n",
       "19    2024-04-05 00:00:00\n",
       "20    2024-04-05 00:00:00\n",
       "21    2024-04-05 00:00:00\n",
       "22    2024-04-05 00:00:00\n",
       "23    2024-04-05 00:00:00\n",
       "0     2024-04-06 00:00:00\n",
       "1     2024-04-06 00:00:00\n",
       "2     2024-04-06 00:00:00\n",
       "3     2024-04-06 00:00:00\n",
       "4     2024-04-06 00:00:00\n",
       "5     2024-04-06 00:00:00\n",
       "6     2024-04-06 00:00:00\n",
       "7     2024-04-06 00:00:00\n",
       "Name: date, Length: 16262, dtype: object"
      ]
     },
     "execution_count": 19,
     "metadata": {},
     "output_type": "execute_result"
    }
   ],
   "source": [
    "complete['date']"
   ]
  },
  {
   "cell_type": "code",
   "execution_count": 20,
   "id": "cae911ad",
   "metadata": {},
   "outputs": [],
   "source": [
    "folder_path = \"/Users/benjamincheng/Documents/GitHub/Sports-Betting/data/raw_data/\"\n",
    "csv_path = \"NBA_2018_2024.csv\"\n",
    "complete_path = folder_path + csv_path\n",
    "complete.to_csv(complete_path)"
   ]
  }
 ],
 "metadata": {
  "kernelspec": {
   "display_name": "Python 3 (ipykernel)",
   "language": "python",
   "name": "python3"
  },
  "language_info": {
   "codemirror_mode": {
    "name": "ipython",
    "version": 3
   },
   "file_extension": ".py",
   "mimetype": "text/x-python",
   "name": "python",
   "nbconvert_exporter": "python",
   "pygments_lexer": "ipython3",
   "version": "3.10.12"
  }
 },
 "nbformat": 4,
 "nbformat_minor": 5
}
