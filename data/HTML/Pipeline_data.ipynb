{
 "cells": [
  {
   "cell_type": "code",
   "execution_count": 68,
   "id": "6f3341a1",
   "metadata": {},
   "outputs": [],
   "source": [
    "import os\n",
    "from bs4 import BeautifulSoup\n",
    "from playwright.async_api import async_playwright, TimeoutError as PlaywrightTimeout\n",
    "import time"
   ]
  },
  {
   "cell_type": "code",
   "execution_count": 74,
   "id": "9a7c7d49",
   "metadata": {},
   "outputs": [],
   "source": [
    "SEASONS = list(range(2024,2025))"
   ]
  },
  {
   "cell_type": "code",
   "execution_count": 75,
   "id": "86a5d858",
   "metadata": {},
   "outputs": [],
   "source": [
    "DATA_DIR = \"data\"\n",
    "HTML_DIR = \"HTML\"\n",
    "STANDINGS_DIR = '/Users/benjamincheng/Documents/GitHub/Sports-Betting/data/HTML/standings'\n",
    "SCORES_DIR = '/Users/benjamincheng/Documents/GitHub/Sports-Betting/data/HTML/scores'"
   ]
  },
  {
   "cell_type": "code",
   "execution_count": 76,
   "id": "0d8af3ac",
   "metadata": {},
   "outputs": [],
   "source": [
    "async def get_html(url, selector, sleep=5, retries = 5):\n",
    "    html = None\n",
    "    for i in range(1, retries+1):\n",
    "        time.sleep(sleep * i)  # Use asyncio.sleep() instead of time.sleep()\n",
    "\n",
    "        \n",
    "        try:\n",
    "            async with async_playwright() as p:\n",
    "                browser = await p.firefox.launch()\n",
    "                page = await browser.new_page()\n",
    "                await page.goto(url)\n",
    "                print(await page.title())\n",
    "                html = await page.inner_html(selector)\n",
    "        except PlaywrightTimeout:\n",
    "            print(f\"Timeout error on {url}\")\n",
    "            continue\n",
    "        else:\n",
    "            break\n",
    "    return html"
   ]
  },
  {
   "cell_type": "code",
   "execution_count": 77,
   "id": "d057d371",
   "metadata": {},
   "outputs": [],
   "source": [
    "async def scrape_season(season):\n",
    "    url = f\"https://www.basketball-reference.com/leagues/NBA_{season}_games.html\"\n",
    "    html = await get_html(url, \"#content .filter\")\n",
    "    soup = BeautifulSoup(html)\n",
    "    links = soup.find_all(\"a\")\n",
    "    href = [l[\"href\"] for l in links]\n",
    "    standings_page = [f\"https://www.basketball-reference.com{l}\" for l in href]\n",
    "    \n",
    "    for url in standings_page:\n",
    "        save_path = os.path.join(STANDINGS_DIR, url.split(\"/\")[-1])\n",
    "        print(save_path)\n",
    "        if os.path.exists(save_path) and save_path != \"/Users/benjamincheng/Documents/GitHub/Sports-Betting/data/HTML/standings/NBA_2024_games-april.html\":\n",
    "            continue\n",
    "    \n",
    "        html = await get_html(url, \"#all_schedule\")\n",
    "        with open(save_path, \"w+\") as f:\n",
    "            f.write(html)"
   ]
  },
  {
   "cell_type": "code",
   "execution_count": null,
   "id": "de4dd708",
   "metadata": {},
   "outputs": [
    {
     "name": "stdout",
     "output_type": "stream",
     "text": [
      "Timeout error on https://www.basketball-reference.com/leagues/NBA_2024_games.html\n",
      "2023-24 NBA Schedule | Basketball-Reference.com\n",
      "/Users/benjamincheng/Documents/GitHub/Sports-Betting/data/HTML/standings/NBA_2024_games-october.html\n",
      "/Users/benjamincheng/Documents/GitHub/Sports-Betting/data/HTML/standings/NBA_2024_games-november.html\n",
      "/Users/benjamincheng/Documents/GitHub/Sports-Betting/data/HTML/standings/NBA_2024_games-december.html\n",
      "/Users/benjamincheng/Documents/GitHub/Sports-Betting/data/HTML/standings/NBA_2024_games-january.html\n",
      "/Users/benjamincheng/Documents/GitHub/Sports-Betting/data/HTML/standings/NBA_2024_games-february.html\n",
      "/Users/benjamincheng/Documents/GitHub/Sports-Betting/data/HTML/standings/NBA_2024_games-march.html\n",
      "/Users/benjamincheng/Documents/GitHub/Sports-Betting/data/HTML/standings/NBA_2024_games-april.html\n",
      "Timeout error on https://www.basketball-reference.com/leagues/NBA_2024_games-april.html\n",
      "Timeout error on https://www.basketball-reference.com/leagues/NBA_2024_games-april.html\n",
      "Timeout error on https://www.basketball-reference.com/leagues/NBA_2024_games-april.html\n"
     ]
    }
   ],
   "source": [
    "for season in SEASONS:\n",
    "    await scrape_season(season)"
   ]
  },
  {
   "cell_type": "code",
   "execution_count": 64,
   "id": "9cf0ab8e",
   "metadata": {},
   "outputs": [],
   "source": [
    "standings_files = os.listdir(STANDINGS_DIR)"
   ]
  },
  {
   "cell_type": "code",
   "execution_count": 65,
   "id": "d432e1f9",
   "metadata": {},
   "outputs": [],
   "source": [
    "async def scrape_game(standings_file):\n",
    "    with open(standings_file, 'r') as f:\n",
    "        html = f.read()\n",
    "\n",
    "    soup = BeautifulSoup(html)\n",
    "    links = soup.find_all(\"a\")\n",
    "    hrefs = [l.get('href') for l in links]\n",
    "    box_scores = [l for l in hrefs if l and \"boxscore\" in l and \".html\" in l]\n",
    "    box_scores = [f\"https://www.basketball-reference.com{l}\" for l in box_scores]\n",
    "    for url in box_scores:\n",
    "        save_path = os.path.join(SCORES_DIR, url.split(\"/\")[-1])\n",
    "        if os.path.exists(save_path):\n",
    "            continue\n",
    "\n",
    "        html = await get_html(url, \"#content\")\n",
    "        if not html:\n",
    "            continue\n",
    "        with open(save_path, \"w+\") as f:\n",
    "            f.write(html)"
   ]
  },
  {
   "cell_type": "code",
   "execution_count": 66,
   "id": "516fa467",
   "metadata": {
    "scrolled": true
   },
   "outputs": [
    {
     "name": "stdout",
     "output_type": "stream",
     "text": [
      "NBA_2024_games-march.html\n",
      "NBA_2024_games-november.html\n",
      "NBA_2024_games-december.html\n",
      "NBA_2024_games-october.html\n",
      "NBA_2024_games-february.html\n",
      "NBA_2024_games-january.html\n",
      "NBA_2024_games-april.html\n"
     ]
    }
   ],
   "source": [
    "standings_files = [s for s in standings_files if \".html\" in s and \"2024\" in s] \n",
    "for f in standings_files:\n",
    "    filepath = os.path.join(STANDINGS_DIR, f)\n",
    "    print(f)\n",
    "    await scrape_game(filepath)"
   ]
  },
  {
   "cell_type": "code",
   "execution_count": null,
   "id": "04f5db7a",
   "metadata": {},
   "outputs": [],
   "source": []
  }
 ],
 "metadata": {
  "kernelspec": {
   "display_name": "Python 3 (ipykernel)",
   "language": "python",
   "name": "python3"
  },
  "language_info": {
   "codemirror_mode": {
    "name": "ipython",
    "version": 3
   },
   "file_extension": ".py",
   "mimetype": "text/x-python",
   "name": "python",
   "nbconvert_exporter": "python",
   "pygments_lexer": "ipython3",
   "version": "3.11.4"
  }
 },
 "nbformat": 4,
 "nbformat_minor": 5
}
