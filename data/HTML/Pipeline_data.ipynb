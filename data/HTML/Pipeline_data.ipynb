{
 "cells": [
  {
   "cell_type": "code",
   "execution_count": 14,
   "id": "6f3341a1",
   "metadata": {},
   "outputs": [],
   "source": [
    "import os\n",
    "from bs4 import BeautifulSoup\n",
    "from playwright.async_api import async_playwright, TimeoutError as PlaywrightTimeout\n",
    "import time"
   ]
  },
  {
   "cell_type": "code",
   "execution_count": 15,
   "id": "9a7c7d49",
   "metadata": {},
   "outputs": [],
   "source": [
    "SEASONS = list(range(2024,2025))"
   ]
  },
  {
   "cell_type": "code",
   "execution_count": 24,
   "id": "86a5d858",
   "metadata": {},
   "outputs": [],
   "source": [
    "DATA_DIR = \"data\"\n",
    "HTML_DIR = \"HTML\"\n",
    "STANDINGS_DIR = '/Users/benjamincheng/Documents/GitHub/Sports-Betting/data/HTML/standings'\n",
    "SCORES_DIR = '/Users/benjamincheng/Documents/GitHub/Sports-Betting/data/HTML/scores'"
   ]
  },
  {
   "cell_type": "code",
   "execution_count": 30,
   "id": "0d8af3ac",
   "metadata": {},
   "outputs": [],
   "source": [
    "async def get_html(url, selector, sleep=5, retries = 5):\n",
    "    html = None\n",
    "    for i in range(1, retries+1):\n",
    "        time.sleep(sleep * i)  # Use asyncio.sleep() instead of time.sleep()\n",
    "\n",
    "        \n",
    "        try:\n",
    "            async with async_playwright() as p:\n",
    "                browser = await p.firefox.launch()\n",
    "                page = await browser.new_page()\n",
    "                await page.goto(url)\n",
    "                print(await page.title())\n",
    "                html = await page.inner_html(selector)\n",
    "        except PlaywrightTimeout:\n",
    "            print(f\"Timeout error on {url}\")\n",
    "            continue\n",
    "        else:\n",
    "            break\n",
    "    return html"
   ]
  },
  {
   "cell_type": "code",
   "execution_count": 33,
   "id": "d057d371",
   "metadata": {},
   "outputs": [],
   "source": [
    "async def scrape_season(season):\n",
    "    url = f\"https://www.basketball-reference.com/leagues/NBA_{season}_games.html\"\n",
    "    html = await get_html(url, \"#content .filter\")\n",
    "    soup = BeautifulSoup(html)\n",
    "    links = soup.find_all(\"a\")\n",
    "    href = [l[\"href\"] for l in links]\n",
    "    standings_page = [f\"https://www.basketball-reference.com{l}\" for l in href]\n",
    "    \n",
    "    for url in standings_page:\n",
    "        save_path = os.path.join(STANDINGS_DIR, url.split(\"/\")[-1])\n",
    "        print(save_path)\n",
    "        if os.path.exists(save_path) and save_path != \"/Users/benjamincheng/Documents/GitHub/Sports-Betting/data/HTML/standings/NBA_2024_games-april.html\":\n",
    "            continue\n",
    "    \n",
    "        html = await get_html(url, \"#all_schedule\")\n",
    "        with open(save_path, \"w+\") as f:\n",
    "            f.write(html)"
   ]
  },
  {
   "cell_type": "code",
   "execution_count": 34,
   "id": "de4dd708",
   "metadata": {},
   "outputs": [
    {
     "name": "stdout",
     "output_type": "stream",
     "text": [
      "2023-24 NBA Schedule | Basketball-Reference.com\n",
      "/Users/benjamincheng/Documents/GitHub/Sports-Betting/data/HTML/standings/NBA_2024_games-october.html\n",
      "/Users/benjamincheng/Documents/GitHub/Sports-Betting/data/HTML/standings/NBA_2024_games-november.html\n",
      "/Users/benjamincheng/Documents/GitHub/Sports-Betting/data/HTML/standings/NBA_2024_games-december.html\n",
      "/Users/benjamincheng/Documents/GitHub/Sports-Betting/data/HTML/standings/NBA_2024_games-january.html\n",
      "/Users/benjamincheng/Documents/GitHub/Sports-Betting/data/HTML/standings/NBA_2024_games-february.html\n",
      "/Users/benjamincheng/Documents/GitHub/Sports-Betting/data/HTML/standings/NBA_2024_games-march.html\n",
      "/Users/benjamincheng/Documents/GitHub/Sports-Betting/data/HTML/standings/NBA_2024_games-april.html\n",
      "Timeout error on https://www.basketball-reference.com/leagues/NBA_2024_games-april.html\n",
      "Timeout error on https://www.basketball-reference.com/leagues/NBA_2024_games-april.html\n",
      "2023-24 NBA Schedule | Basketball-Reference.com\n"
     ]
    }
   ],
   "source": [
    "for season in SEASONS:\n",
    "    await scrape_season(season)"
   ]
  },
  {
   "cell_type": "code",
   "execution_count": 35,
   "id": "9cf0ab8e",
   "metadata": {},
   "outputs": [],
   "source": [
    "standings_files = os.listdir(STANDINGS_DIR)"
   ]
  },
  {
   "cell_type": "code",
   "execution_count": 36,
   "id": "d432e1f9",
   "metadata": {},
   "outputs": [],
   "source": [
    "async def scrape_game(standings_file):\n",
    "    with open(standings_file, 'r') as f:\n",
    "        html = f.read()\n",
    "\n",
    "    soup = BeautifulSoup(html)\n",
    "    links = soup.find_all(\"a\")\n",
    "    hrefs = [l.get('href') for l in links]\n",
    "    box_scores = [l for l in hrefs if l and \"boxscore\" in l and \".html\" in l]\n",
    "    box_scores = [f\"https://www.basketball-reference.com{l}\" for l in box_scores]\n",
    "    for url in box_scores:\n",
    "        save_path = os.path.join(SCORES_DIR, url.split(\"/\")[-1])\n",
    "        if os.path.exists(save_path):\n",
    "            continue\n",
    "\n",
    "        html = await get_html(url, \"#content\")\n",
    "        if not html:\n",
    "            continue\n",
    "        with open(save_path, \"w+\") as f:\n",
    "            f.write(html)"
   ]
  },
  {
   "cell_type": "code",
   "execution_count": 39,
   "id": "516fa467",
   "metadata": {
    "scrolled": true
   },
   "outputs": [
    {
     "name": "stdout",
     "output_type": "stream",
     "text": [
      "NBA_2024_games-march.html\n",
      "Timeout error on https://www.basketball-reference.com/boxscores/202403290CLE.html\n",
      "76ers vs Cavaliers, March 29, 2024 | Basketball-Reference.com\n",
      "Trail Blazers vs Heat, March 29, 2024 | Basketball-Reference.com\n",
      "Suns vs Thunder, March 29, 2024 | Basketball-Reference.com\n",
      "Knicks vs Spurs, March 29, 2024 | Basketball-Reference.com\n",
      "Timeout error on https://www.basketball-reference.com/boxscores/202403290DEN.html\n",
      "Timberwolves vs Nuggets, March 29, 2024 | Basketball-Reference.com\n",
      "Rockets vs Jazz, March 29, 2024 | Basketball-Reference.com\n",
      "Mavericks vs Kings, March 29, 2024 | Basketball-Reference.com\n",
      "Timeout error on https://www.basketball-reference.com/boxscores/202403300NOP.html\n",
      "Celtics vs Pelicans, March 30, 2024 | Basketball-Reference.com\n",
      "Grizzlies vs Magic, March 30, 2024 | Basketball-Reference.com\n",
      "Bucks vs Hawks, March 30, 2024 | Basketball-Reference.com\n",
      "Timeout error on https://www.basketball-reference.com/boxscores/202403310DEN.html\n",
      "Cavaliers vs Nuggets, March 31, 2024 | Basketball-Reference.com\n",
      "Timeout error on https://www.basketball-reference.com/boxscores/202403310BRK.html\n",
      "Timeout error on https://www.basketball-reference.com/boxscores/202403310BRK.html\n",
      "Lakers vs Nets, March 31, 2024 | Basketball-Reference.com\n",
      "Clippers vs Hornets, March 31, 2024 | Basketball-Reference.com\n",
      "76ers vs Raptors, March 31, 2024 | Basketball-Reference.com\n",
      "Heat vs Wizards, March 31, 2024 | Basketball-Reference.com\n",
      "Timeout error on https://www.basketball-reference.com/boxscores/202403310HOU.html\n",
      "Mavericks vs Rockets, March 31, 2024 | Basketball-Reference.com\n",
      "Timeout error on https://www.basketball-reference.com/boxscores/202403310MIN.html\n",
      "Bulls vs Timberwolves, March 31, 2024 | Basketball-Reference.com\n",
      "Timeout error on https://www.basketball-reference.com/boxscores/202403310NYK.html\n",
      "Thunder vs Knicks, March 31, 2024 | Basketball-Reference.com\n",
      "Timeout error on https://www.basketball-reference.com/boxscores/202403310SAS.html\n",
      "Warriors vs Spurs, March 31, 2024 | Basketball-Reference.com\n",
      "Timeout error on https://www.basketball-reference.com/boxscores/202403310SAC.html\n",
      "Jazz vs Kings, March 31, 2024 | Basketball-Reference.com\n",
      "NBA_2024_games-november.html\n",
      "NBA_2024_games-december.html\n",
      "NBA_2024_games-october.html\n",
      "NBA_2024_games-february.html\n",
      "NBA_2024_games-january.html\n",
      "NBA_2024_games-april.html\n",
      "Celtics vs Hornets, April 1, 2024 | Basketball-Reference.com\n",
      "Grizzlies vs Pistons, April 1, 2024 | Basketball-Reference.com\n",
      "Nets vs Pacers, April 1, 2024 | Basketball-Reference.com\n",
      "Trail Blazers vs Magic, April 1, 2024 | Basketball-Reference.com\n",
      "Timeout error on https://www.basketball-reference.com/boxscores/202404010CHI.html\n",
      "Timeout error on https://www.basketball-reference.com/boxscores/202404010CHI.html\n",
      "Hawks vs Bulls, April 1, 2024 | Basketball-Reference.com\n",
      "Suns vs Pelicans, April 1, 2024 | Basketball-Reference.com\n"
     ]
    }
   ],
   "source": [
    "standings_files = [s for s in standings_files if \".html\" in s and \"2024\" in s] \n",
    "for f in standings_files:\n",
    "    filepath = os.path.join(STANDINGS_DIR, f)\n",
    "    print(f)\n",
    "    await scrape_game(filepath)"
   ]
  }
 ],
 "metadata": {
  "kernelspec": {
   "display_name": "Python 3 (ipykernel)",
   "language": "python",
   "name": "python3"
  },
  "language_info": {
   "codemirror_mode": {
    "name": "ipython",
    "version": 3
   },
   "file_extension": ".py",
   "mimetype": "text/x-python",
   "name": "python",
   "nbconvert_exporter": "python",
   "pygments_lexer": "ipython3",
   "version": "3.10.12"
  }
 },
 "nbformat": 4,
 "nbformat_minor": 5
}
