{
 "cells": [
  {
   "cell_type": "markdown",
   "id": "74653506-aa9c-40f9-9c0f-12172a515962",
   "metadata": {},
   "source": [
    "- [1. Ridge](#1)\n",
    "- [2.](#2)"
   ]
  },
  {
   "cell_type": "markdown",
   "id": "d1b6e836-b1c9-40be-88a6-5e9ac8111818",
   "metadata": {},
   "source": [
    "## 1. Ridge <a id='1'></a>"
   ]
  },
  {
   "cell_type": "code",
   "execution_count": 1,
   "id": "c9a8b998-3c08-450f-a77d-8c71438d5420",
   "metadata": {},
   "outputs": [],
   "source": [
    "import pandas as pd\n",
    "import numpy as np\n",
    "from sklearn.pipeline import Pipeline\n",
    "from sklearn.feature_selection import SequentialFeatureSelector\n",
    "from sklearn.linear_model import RidgeClassifier\n",
    "from sklearn.model_selection import RandomizedSearchCV, TimeSeriesSplit\n",
    "from scipy.stats import uniform, randint"
   ]
  },
  {
   "cell_type": "code",
   "execution_count": 5,
   "id": "22bf2d6d-cf37-443e-be6e-dcf5424c401f",
   "metadata": {},
   "outputs": [],
   "source": [
    "# path_template = '/Users/benjamincheng/Documents/GitHub/Sports-Betting/data/tuning_data/complete_{}.csv'\n",
    "path_template = '/Users/liqingyang/Documents/GitHub/sports_trading/sports_betting/data/tuning_data/complete_{}.csv'\n",
    "df1 = pd.read_csv(path_template.format(1))\n",
    "df2 = pd.read_csv(path_template.format(2))\n",
    "df3 = pd.read_csv(path_template.format(3))\n",
    "df4 = pd.read_csv(path_template.format(4))\n",
    "\n",
    "# Concatenate the DataFrames into one DataFrame\n",
    "complete_cleaning = pd.concat([df1, df2, df3, df4], ignore_index=True)"
   ]
  },
  {
   "cell_type": "code",
   "execution_count": null,
   "id": "3f4f39ad-2632-451c-9024-b16d42e87324",
   "metadata": {},
   "outputs": [
    {
     "name": "stdout",
     "output_type": "stream",
     "text": [
      "Fitting 2 folds for each of 2 candidates, totalling 4 fits\n"
     ]
    }
   ],
   "source": [
    "features = [col for col in complete_cleaning.columns if col != 'target_x']\n",
    "X = complete_cleaning[features]\n",
    "y = complete_cleaning['target_x']\n",
    "\n",
    "# Define the model\n",
    "rr = RidgeClassifier()\n",
    "\n",
    "# Create a pipeline with Sequential Feature Selector\n",
    "pipeline = Pipeline([\n",
    "    ('feature_selector', SequentialFeatureSelector(rr, direction='forward')),\n",
    "    ('classifier', rr)\n",
    "])\n",
    "\n",
    "# Define the parameter distribution to sample from\n",
    "param_distributions = {\n",
    "    'feature_selector__n_features_to_select': randint(20, 80),  # Random integer between 1 and number of features\n",
    "    'classifier__alpha': uniform(0.1, 50), \n",
    "    'classifier__solver': ['auto', 'svd', 'cholesky', 'lsqr', 'sparse_cg', 'sag', 'saga']  # Different solvers\n",
    "}\n",
    "\n",
    "# Initialize TimeSeriesSplit for cross-validation\n",
    "tscv = TimeSeriesSplit(n_splits=2)\n",
    "\n",
    "# Initialize RandomizedSearchCV\n",
    "random_search = RandomizedSearchCV(\n",
    "    estimator=pipeline,\n",
    "    param_distributions=param_distributions,\n",
    "    n_iter=2,  # Number of parameter settings sampled\n",
    "    cv=tscv,  # Cross-validation strategy\n",
    "    verbose=1,\n",
    "    n_jobs=-1\n",
    ")\n",
    "\n",
    "\n",
    "# Perform the randomized search on the data\n",
    "random_search.fit(X, y)\n",
    "\n",
    "# Get the best combination of hyperparameters and the corresponding best model\n",
    "best_hyperparams = random_search.best_params_\n",
    "best_model = random_search.best_estimator_\n",
    "\n",
    "# Display the best hyperparameters\n",
    "print(\"Best hyperparameters:\")\n",
    "print(best_hyperparams)\n",
    "\n",
    "saved_file = '/Users/liqingyang/Documents/GitHub/sports_trading/sports_betting/data/tuning_results/'\n",
    "\n",
    "\n",
    "best_hyperparams_path = os.path.join(saved_dir, 'best_hyperparameters.json')\n",
    "with open(best_hyperparams_path, 'w') as f:\n",
    "    json.dump(best_hyperparams, f)\n",
    "\n",
    "# 2. Save Fitted Model\n",
    "best_model_path = os.path.join(saved_dir, 'best_model.joblib')\n",
    "dump(best_model, best_model_path)\n",
    "\n",
    "# 3. Save CV Results\n",
    "cv_results_path = os.path.join(saved_dir, 'cv_results.csv')\n",
    "cv_results = pd.DataFrame(random_search.cv_results_)\n",
    "cv_results.to_csv(cv_results_path, index=False)\n",
    "\n",
    "print(\"Saved best hyperparameters, best model, and CV results.\")"
   ]
  },
  {
   "cell_type": "code",
   "execution_count": null,
   "id": "82cb6a00-af33-40c4-b5cd-b65d6b9f9019",
   "metadata": {},
   "outputs": [],
   "source": [
    "# Assuming `random_search` is your fitted RandomizedSearchCV object\n",
    "# and 'features' is the list of all feature names used during fitting\n",
    "\n",
    "# Extract the best estimator from your randomized search\n",
    "best_model = random_search.best_estimator_\n",
    "\n",
    "# Access the SequentialFeatureSelector from the best estimator pipeline\n",
    "feature_selector = best_model.named_steps['feature_selector']\n",
    "\n",
    "# Get the support mask for the selected features\n",
    "support_mask = feature_selector.get_support()\n",
    "\n",
    "# Use the mask to get the list of selected feature names\n",
    "selected_features = [feature for feature, selected in zip(features, support_mask) if selected]\n",
    "\n",
    "# Now, `selected_features` contains the names of the features selected by the SequentialFeatureSelector\n",
    "# Define the path where you want to save the selected features\n",
    "selected_features_path = os.path.join(saved_dir, 'selected_features.txt')\n",
    "\n",
    "# Save the selected feature names to the file\n",
    "with open(selected_features_path, 'w') as f:\n",
    "    for feature in selected_features:\n",
    "        f.write(f\"{feature}\\n\")\n",
    "\n",
    "print(\"Saved selected features.\")\n"
   ]
  },
  {
   "cell_type": "code",
   "execution_count": null,
   "id": "bfbb10a0-e797-4505-9728-7b9756272f44",
   "metadata": {},
   "outputs": [],
   "source": [
    "best_accuracy = random_search.best_score_\n",
    "print(f\"Best Accuracy: {best_accuracy:.4f}\")"
   ]
  },
  {
   "cell_type": "code",
   "execution_count": null,
   "id": "6b661c28-aefc-4067-b171-7f3f75804e42",
   "metadata": {},
   "outputs": [],
   "source": [
    "# Get the feature selector from the pipeline of the best model\n",
    "feature_selector = random_search.best_estimator_.named_steps['feature_selector']\n",
    "\n",
    "# Apply the mask to the feature names to get the selected features\n",
    "selected_features = [feature for feature, is_selected in zip(features, feature_selector.get_support()) if is_selected]\n",
    "\n",
    "# Save the selected features to a file\n",
    "with open('selected_features.txt', 'w') as f:\n",
    "    for feature in selected_features:\n",
    "        f.write(\"%s\\n\" % feature)\n"
   ]
  }
 ],
 "metadata": {
  "kernelspec": {
   "display_name": "Python 3 (ipykernel)",
   "language": "python",
   "name": "python3"
  },
  "language_info": {
   "codemirror_mode": {
    "name": "ipython",
    "version": 3
   },
   "file_extension": ".py",
   "mimetype": "text/x-python",
   "name": "python",
   "nbconvert_exporter": "python",
   "pygments_lexer": "ipython3",
   "version": "3.11.4"
  }
 },
 "nbformat": 4,
 "nbformat_minor": 5
}
