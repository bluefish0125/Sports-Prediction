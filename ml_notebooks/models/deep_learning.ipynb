{
 "cells": [
  {
   "cell_type": "markdown",
   "id": "3fa4c659-fa7f-4b70-adb9-c9c753ef0a89",
   "metadata": {},
   "source": [
    "- [1. Importing Packages and Dataset](#1)\n",
    "- [2. Assembling the Dataset and Explore Datasets](#2)\n",
    "- [3. and Preprocessing for Modeling](#3)\n",
    "- [4. Modeling](#4)"
   ]
  },
  {
   "cell_type": "markdown",
   "id": "28946872-a5df-41f1-98f6-a2d1623f22ac",
   "metadata": {},
   "source": [
    "## 1. Importing Packages and Dataset <a id='1'></a>"
   ]
  },
  {
   "cell_type": "code",
   "execution_count": 7,
   "id": "fada5323-201f-43bf-b494-6d6037cfeae1",
   "metadata": {},
   "outputs": [],
   "source": [
    "import pandas as pd\n",
    "import numpy as np\n",
    "# import matplotlib.pyplot as plt\n",
    "# import seaborn as sns\n",
    "\n",
    "# Use TensorFlow's Keras API\n",
    "from tensorflow.keras.preprocessing.text import Tokenizer\n",
    "from tensorflow.keras.preprocessing.sequence import pad_sequences\n",
    "from tensorflow.keras.models import Sequential, Model\n",
    "from tensorflow.keras.layers import Dense, LSTM, Dropout, Embedding, Bidirectional, Input, Lambda, Reshape\n",
    "from tensorflow.keras.callbacks import ModelCheckpoint\n",
    "from tensorflow.keras.utils import to_categorical\n",
    "import tensorflow as tf\n",
    "import markovify\n",
    "import pronouncing\n",
    "import os\n",
    "\n",
    "import re\n",
    "import random\n",
    "\n",
    "import torch\n",
    "random.seed(0)\n",
    "np.random.seed(0)\n",
    "tf.random.set_seed(0)"
   ]
  },
  {
   "cell_type": "code",
   "execution_count": null,
   "id": "73df749f-cf0f-4c90-a304-dea59c0363cc",
   "metadata": {},
   "outputs": [],
   "source": []
  }
 ],
 "metadata": {
  "kernelspec": {
   "display_name": "Python 3 (ipykernel)",
   "language": "python",
   "name": "python3"
  },
  "language_info": {
   "codemirror_mode": {
    "name": "ipython",
    "version": 3
   },
   "file_extension": ".py",
   "mimetype": "text/x-python",
   "name": "python",
   "nbconvert_exporter": "python",
   "pygments_lexer": "ipython3",
   "version": "3.11.4"
  }
 },
 "nbformat": 4,
 "nbformat_minor": 5
}
