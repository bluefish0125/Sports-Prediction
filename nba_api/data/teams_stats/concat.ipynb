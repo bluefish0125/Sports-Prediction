{
 "cells": [
  {
   "cell_type": "code",
   "execution_count": 102,
   "id": "5bd01a54",
   "metadata": {},
   "outputs": [],
   "source": [
    "import pandas as pd\n",
    "pd.reset_option('display.max_rows')\n",
    "#pd.set_option('display.max_rows', None)"
   ]
  },
  {
   "cell_type": "code",
   "execution_count": 127,
   "id": "6033b854",
   "metadata": {},
   "outputs": [],
   "source": [
    "def process(df):\n",
    "    df.reset_index(drop=True, inplace=True)\n",
    "    df['Teams'] = df['TEAM_NAME_base'].map(mapping)\n",
    "    del df['TEAM_NAME_base']\n",
    "    return df"
   ]
  },
  {
   "cell_type": "code",
   "execution_count": 145,
   "id": "96d1a485",
   "metadata": {},
   "outputs": [],
   "source": [
    "# Mapping to maintain uniform naming schemes across datasets\n",
    "mapping = {'Brooklyn Nets': 'BRK', 'Golden State Warriors': 'GSW', 'Los Angeles Lakers': 'LAL',\n",
    "       'Milwaukee Bucks': 'MIL', 'Boston Celtics': 'BOS', 'Charlotte Hornets': 'CHO',\n",
    "       'Chicago Bulls': 'CHI', 'Cleveland Cavaliers': 'CLE', 'Denver Nuggets': 'DEN',\n",
    "       'Detroit Pistons': 'DET', 'Houston Rockets': 'HOU', 'Indiana Pacers': 'IND',\n",
    "       'Memphis Grizzlies': 'MEM', 'Minnesota Timberwolves': 'MIN',\n",
    "       'New Orleans Pelicans': 'NOP', 'New York Knicks': 'NYK', 'Oklahoma City Thunder': 'OKC',\n",
    "       'Orlando Magic': 'ORL', 'Philadelphia 76ers': 'PHI', 'Phoenix Suns': 'PHO',\n",
    "       'Portland Trail Blazers': 'POR', 'Sacramento Kings': 'SAC', 'San Antonio Spurs': 'SAS',\n",
    "       'Toronto Raptors': 'TOR', 'Utah Jazz': 'UTA', 'Washington Wizards': 'WAS',\n",
    "       'Atlanta Hawks': 'ATL', 'Dallas Mavericks': 'DAL', 'LA Clippers': 'LAC', 'Miami Heat': 'MIA'}"
   ]
  },
  {
   "cell_type": "code",
   "execution_count": 146,
   "id": "9a6f8476",
   "metadata": {},
   "outputs": [],
   "source": [
    "save_path = '/Users/benjamincheng/Documents/GitHub/Sports-Betting/nba_api/data/teams_stats/'\n",
    "#save_path = '/Users/liqingyang/Documents/GitHub/sports_trading/sports_betting/nba_api/data/teams_stats/'\n",
    "file_name = 'processed_cumulative_season_stats_2019_2024.csv'\n",
    "file_path = save_path + file_name\n",
    "#### Parse dates are usually used to convert certain cols to datetime\n",
    "df_1 = pd.read_csv(file_path, index_col=0, parse_dates=['Date'])\n",
    "### Have to use mixed for format due to different formats in dates\n",
    "df_1['Date'] = pd.to_datetime(df_1['Date'], format='mixed')\n",
    "\n",
    "save_path = '/Users/benjamincheng/Documents/GitHub/Sports-Betting/nba_api/data/teams_stats/2023_2024/'\n",
    "#save_path = '/Users/liqingyang/Documents/GitHub/sports_trading/sports_betting/nba_api/data/teams_stats/2023_2024/'\n",
    "file_name = 'cumulative_season_stats_2023_2024.csv'\n",
    "file_path = save_path + file_name\n",
    "\n",
    "df_2 = pd.read_csv(file_path, index_col=0, parse_dates=['Date'])\n",
    "df_2['Date'] = pd.to_datetime(df_2['Date'], format='mixed')"
   ]
  },
  {
   "cell_type": "code",
   "execution_count": 147,
   "id": "e8696241",
   "metadata": {},
   "outputs": [
    {
     "data": {
      "text/plain": [
       "0       2018-10-16\n",
       "1       2018-10-16\n",
       "2       2018-10-16\n",
       "3       2018-10-16\n",
       "4       2018-10-17\n",
       "           ...    \n",
       "33297   2024-03-21\n",
       "33298   2024-03-21\n",
       "33299   2024-03-21\n",
       "33300   2024-03-21\n",
       "33301   2024-03-21\n",
       "Name: Date, Length: 33302, dtype: datetime64[ns]"
      ]
     },
     "execution_count": 147,
     "metadata": {},
     "output_type": "execute_result"
    }
   ],
   "source": [
    "df_1['Date']"
   ]
  },
  {
   "cell_type": "markdown",
   "id": "0bcd9236-c289-484e-a8bc-22737be4e189",
   "metadata": {},
   "source": [
    "### Combining with the Most Recent Data"
   ]
  },
  {
   "cell_type": "markdown",
   "id": "4f689b9c-289c-4ef2-a539-bef4721eb66b",
   "metadata": {},
   "source": [
    "- Selecting the latest date and earlier date in df_1 and df_2 and concat them"
   ]
  },
  {
   "cell_type": "code",
   "execution_count": 148,
   "id": "dbaa005e-728c-4785-9024-5a79507c9495",
   "metadata": {},
   "outputs": [],
   "source": [
    "latest = df_1['Date'].max() # Getting the last day in prev version\n",
    "df_2 = df_2[df_2['Date'] > latest]\n",
    "df_2 = df_2[df_2['Date'] != '2024-04-03']\n",
    "df_2 = process(df_2)\n",
    "nba = pd.concat([df_1,df_2], axis=0, ignore_index=True)\n",
    "nba = nba.reset_index(drop=True)"
   ]
  },
  {
   "cell_type": "code",
   "execution_count": 150,
   "id": "81d4c651",
   "metadata": {},
   "outputs": [],
   "source": [
    "nba = nba.drop_duplicates()"
   ]
  },
  {
   "cell_type": "code",
   "execution_count": 151,
   "id": "86a717c5-93f3-4abe-8971-2dd2c1c409ee",
   "metadata": {
    "scrolled": true
   },
   "outputs": [
    {
     "data": {
      "text/plain": [
       "True"
      ]
     },
     "execution_count": 151,
     "metadata": {},
     "output_type": "execute_result"
    }
   ],
   "source": [
    "nba.shape == nba.drop_duplicates().shape"
   ]
  },
  {
   "cell_type": "code",
   "execution_count": 157,
   "id": "001680db",
   "metadata": {},
   "outputs": [
    {
     "data": {
      "text/plain": [
       "0       2018-10-16\n",
       "1       2018-10-16\n",
       "2       2018-10-16\n",
       "3       2018-10-16\n",
       "4       2018-10-17\n",
       "           ...    \n",
       "33987   2024-04-02\n",
       "33988   2024-04-02\n",
       "33989   2024-04-02\n",
       "33990   2024-04-02\n",
       "33991   2024-04-02\n",
       "Name: Date, Length: 33700, dtype: datetime64[ns]"
      ]
     },
     "execution_count": 157,
     "metadata": {},
     "output_type": "execute_result"
    }
   ],
   "source": [
    "nba['Date']"
   ]
  },
  {
   "cell_type": "code",
   "execution_count": 159,
   "id": "3f616a40",
   "metadata": {},
   "outputs": [],
   "source": [
    "save_path = '/Users/benjamincheng/Documents/GitHub/Sports-Betting/nba_api/data/teams_stats/'\n",
    "nba.to_csv(save_path + 'processed_cum_2018_2024.csv')"
   ]
  },
  {
   "cell_type": "code",
   "execution_count": 160,
   "id": "9aad94fa",
   "metadata": {},
   "outputs": [],
   "source": [
    "save_path = '/Users/benjamincheng/Documents/GitHub/Sports-Betting/nba_api/data/teams_stats/'\n",
    "df_2.to_csv(save_path + '2024_04_03.csv')"
   ]
  }
 ],
 "metadata": {
  "kernelspec": {
   "display_name": "Python 3 (ipykernel)",
   "language": "python",
   "name": "python3"
  },
  "language_info": {
   "codemirror_mode": {
    "name": "ipython",
    "version": 3
   },
   "file_extension": ".py",
   "mimetype": "text/x-python",
   "name": "python",
   "nbconvert_exporter": "python",
   "pygments_lexer": "ipython3",
   "version": "3.10.12"
  }
 },
 "nbformat": 4,
 "nbformat_minor": 5
}
