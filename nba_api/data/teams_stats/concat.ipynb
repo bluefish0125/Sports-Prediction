{
 "cells": [
  {
   "cell_type": "code",
   "execution_count": 2,
   "id": "5bd01a54",
   "metadata": {},
   "outputs": [],
   "source": [
    "import pandas as pd"
   ]
  },
  {
   "cell_type": "code",
   "execution_count": 3,
   "id": "6033b854",
   "metadata": {},
   "outputs": [],
   "source": [
    "def process(df):\n",
    "    df.reset_index(drop=True, inplace=True)\n",
    "    df['Teams'] = df['TEAM_NAME_base'].map(mapping)\n",
    "    del df['TEAM_NAME_base']\n",
    "    return df"
   ]
  },
  {
   "cell_type": "code",
   "execution_count": 4,
   "id": "96d1a485",
   "metadata": {},
   "outputs": [],
   "source": [
    "# Mapping to maintain uniform naming schemes across datasets\n",
    "mapping = {'Brooklyn Nets': 'BRK', 'Golden State Warriors': 'GSW', 'Los Angeles Lakers': 'LAL',\n",
    "       'Milwaukee Bucks': 'MIL', 'Boston Celtics': 'BOS', 'Charlotte Hornets': 'CHO',\n",
    "       'Chicago Bulls': 'CHI', 'Cleveland Cavaliers': 'CLE', 'Denver Nuggets': 'DEN',\n",
    "       'Detroit Pistons': 'DET', 'Houston Rockets': 'HOU', 'Indiana Pacers': 'IND',\n",
    "       'Memphis Grizzlies': 'MEM', 'Minnesota Timberwolves': 'MIN',\n",
    "       'New Orleans Pelicans': 'NOP', 'New York Knicks': 'NYK', 'Oklahoma City Thunder': 'OKC',\n",
    "       'Orlando Magic': 'ORL', 'Philadelphia 76ers': 'PHI', 'Phoenix Suns': 'PHO',\n",
    "       'Portland Trail Blazers': 'POR', 'Sacramento Kings': 'SAC', 'San Antonio Spurs': 'SAS',\n",
    "       'Toronto Raptors': 'TOR', 'Utah Jazz': 'UTA', 'Washington Wizards': 'WAS',\n",
    "       'Atlanta Hawks': 'ATL', 'Dallas Mavericks': 'DAL', 'LA Clippers': 'LAC', 'Miami Heat': 'MIA'}"
   ]
  },
  {
   "cell_type": "code",
   "execution_count": 8,
   "id": "9a6f8476",
   "metadata": {},
   "outputs": [],
   "source": [
    "save_path = '/Users/benjamincheng/Documents/GitHub/Sports-Betting/nba_api/data/teams_stats/'\n",
    "file_name = 'processed_cumulative_season_stats_2019_2024.csv'\n",
    "file_path = save_path + file_name\n",
    "df_1 = pd.read_csv(file_path, index_col=0)\n",
    "\n",
    "save_path = '/Users/benjamincheng/Documents/GitHub/Sports-Betting/nba_api/data/teams_stats/'\n",
    "file_name = 'processed_cumulative_season_stats_2019_2024.csv'\n",
    "file_path = save_path + file_name\n",
    "df_2 = pd.read_csv(file_path. index_col=0)"
   ]
  },
  {
   "cell_type": "code",
   "execution_count": 19,
   "id": "b895fa62",
   "metadata": {},
   "outputs": [],
   "source": [
    "df_2 = process(df_2)"
   ]
  },
  {
   "cell_type": "code",
   "execution_count": 25,
   "id": "9d98567b",
   "metadata": {},
   "outputs": [
    {
     "data": {
      "text/plain": [
       "0       2023-10-24 00:00:00\n",
       "1       2023-10-24 00:00:00\n",
       "2       2023-10-24 00:00:00\n",
       "3       2023-10-24 00:00:00\n",
       "4       2023-10-25 00:00:00\n",
       "               ...         \n",
       "4437             03/21/2024\n",
       "4438             03/21/2024\n",
       "4439             03/21/2024\n",
       "4440             03/21/2024\n",
       "4441             03/21/2024\n",
       "Name: Date, Length: 4442, dtype: object"
      ]
     },
     "execution_count": 25,
     "metadata": {},
     "output_type": "execute_result"
    }
   ],
   "source": [
    "df_2['Date']"
   ]
  },
  {
   "cell_type": "code",
   "execution_count": 20,
   "id": "be18412c",
   "metadata": {},
   "outputs": [],
   "source": [
    "nba = pd.concat([df_1,df_2], axis=0)\n",
    "nba = nba.reset_index(drop=True)"
   ]
  },
  {
   "cell_type": "code",
   "execution_count": 21,
   "id": "3f616a40",
   "metadata": {},
   "outputs": [],
   "source": [
    "save_path = 'NBA/'\n",
    "nba.to_csv(save_path + 'processed_cum_2018_2024.csv')"
   ]
  },
  {
   "cell_type": "code",
   "execution_count": 23,
   "id": "6deb3de1",
   "metadata": {},
   "outputs": [
    {
     "data": {
      "text/plain": [
       "0        2018-10-16\n",
       "1        2018-10-16\n",
       "2        2018-10-16\n",
       "3        2018-10-16\n",
       "4        2018-10-17\n",
       "            ...    \n",
       "33297    03/21/2024\n",
       "33298    03/21/2024\n",
       "33299    03/21/2024\n",
       "33300    03/21/2024\n",
       "33301    03/21/2024\n",
       "Name: Date, Length: 33302, dtype: object"
      ]
     },
     "execution_count": 23,
     "metadata": {},
     "output_type": "execute_result"
    }
   ],
   "source": [
    "nba['Date']"
   ]
  }
 ],
 "metadata": {
  "kernelspec": {
   "display_name": "Python 3 (ipykernel)",
   "language": "python",
   "name": "python3"
  },
  "language_info": {
   "codemirror_mode": {
    "name": "ipython",
    "version": 3
   },
   "file_extension": ".py",
   "mimetype": "text/x-python",
   "name": "python",
   "nbconvert_exporter": "python",
   "pygments_lexer": "ipython3",
   "version": "3.10.12"
  }
 },
 "nbformat": 4,
 "nbformat_minor": 5
}
