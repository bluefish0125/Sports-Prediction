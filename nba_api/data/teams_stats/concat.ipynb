{
 "cells": [
  {
   "cell_type": "code",
   "execution_count": 1,
   "id": "5bd01a54",
   "metadata": {},
   "outputs": [],
   "source": [
    "import pandas as pd\n",
    "#pd.reset_option('display.max_rows')"
   ]
  },
  {
   "cell_type": "code",
   "execution_count": 7,
   "id": "6033b854",
   "metadata": {},
   "outputs": [],
   "source": [
    "def process(df):\n",
    "    df.reset_index(drop=True, inplace=True)\n",
    "    df['Teams'] = df['TEAM_NAME_base'].map(mapping)\n",
    "    del df['TEAM_NAME_base']\n",
    "    return df"
   ]
  },
  {
   "cell_type": "code",
   "execution_count": 8,
   "id": "e0855430",
   "metadata": {},
   "outputs": [
    {
     "data": {
      "text/plain": [
       "0        2018-10-16\n",
       "1        2018-10-16\n",
       "2        2018-10-16\n",
       "3        2018-10-16\n",
       "4        2018-10-17\n",
       "            ...    \n",
       "33717    2024-04-04\n",
       "33718    2024-04-04\n",
       "33719    2024-04-04\n",
       "33720    2024-04-04\n",
       "33721    2024-04-04\n",
       "Name: Date, Length: 33722, dtype: object"
      ]
     },
     "execution_count": 8,
     "metadata": {},
     "output_type": "execute_result"
    }
   ],
   "source": [
    "df['Date']"
   ]
  },
  {
   "cell_type": "code",
   "execution_count": 9,
   "id": "96d1a485",
   "metadata": {},
   "outputs": [],
   "source": [
    "# Mapping to maintain uniform naming schemes across datasets\n",
    "mapping = {'Brooklyn Nets': 'BRK', 'Golden State Warriors': 'GSW', 'Los Angeles Lakers': 'LAL',\n",
    "       'Milwaukee Bucks': 'MIL', 'Boston Celtics': 'BOS', 'Charlotte Hornets': 'CHO',\n",
    "       'Chicago Bulls': 'CHI', 'Cleveland Cavaliers': 'CLE', 'Denver Nuggets': 'DEN',\n",
    "       'Detroit Pistons': 'DET', 'Houston Rockets': 'HOU', 'Indiana Pacers': 'IND',\n",
    "       'Memphis Grizzlies': 'MEM', 'Minnesota Timberwolves': 'MIN',\n",
    "       'New Orleans Pelicans': 'NOP', 'New York Knicks': 'NYK', 'Oklahoma City Thunder': 'OKC',\n",
    "       'Orlando Magic': 'ORL', 'Philadelphia 76ers': 'PHI', 'Phoenix Suns': 'PHO',\n",
    "       'Portland Trail Blazers': 'POR', 'Sacramento Kings': 'SAC', 'San Antonio Spurs': 'SAS',\n",
    "       'Toronto Raptors': 'TOR', 'Utah Jazz': 'UTA', 'Washington Wizards': 'WAS',\n",
    "       'Atlanta Hawks': 'ATL', 'Dallas Mavericks': 'DAL', 'LA Clippers': 'LAC', 'Miami Heat': 'MIA'}"
   ]
  },
  {
   "cell_type": "code",
   "execution_count": 10,
   "id": "9a6f8476",
   "metadata": {},
   "outputs": [],
   "source": [
    "save_path = '/Users/benjamincheng/Documents/GitHub/Sports-Betting/nba_api/data/teams_stats/'\n",
    "#save_path = '/Users/liqingyang/Documents/GitHub/sports_trading/sports_betting/nba_api/data/teams_stats/'\n",
    "file_name = 'processed_cumulative_season_stats_2019_2024.csv'\n",
    "file_path = save_path + file_name\n",
    "#### Parse dates are usually used to convert certain cols to datetime\n",
    "df_1 = pd.read_csv(file_path, index_col=0, parse_dates=['Date'])\n",
    "### Have to use mixed for format due to different formats in dates\n",
    "df_1['Date'] = pd.to_datetime(df_1['Date'], format='mixed')\n",
    "\n",
    "save_path = '/Users/benjamincheng/Documents/GitHub/Sports-Betting/nba_api/data/teams_stats/2023_2024/'\n",
    "#save_path = '/Users/liqingyang/Documents/GitHub/sports_trading/sports_betting/nba_api/data/teams_stats/2023_2024/'\n",
    "file_name = 'cumulative_season_stats_2023_2024.csv'\n",
    "file_path = save_path + file_name\n",
    "\n",
    "df_2 = pd.read_csv(file_path, index_col=0, parse_dates=['Date'])\n",
    "df_2['Date'] = pd.to_datetime(df_2['Date'], format='mixed')"
   ]
  },
  {
   "cell_type": "code",
   "execution_count": 11,
   "id": "a109c7dc-fcac-41f5-aa29-04a8b1990307",
   "metadata": {},
   "outputs": [
    {
     "data": {
      "text/html": [
       "<div>\n",
       "<style scoped>\n",
       "    .dataframe tbody tr th:only-of-type {\n",
       "        vertical-align: middle;\n",
       "    }\n",
       "\n",
       "    .dataframe tbody tr th {\n",
       "        vertical-align: top;\n",
       "    }\n",
       "\n",
       "    .dataframe thead th {\n",
       "        text-align: right;\n",
       "    }\n",
       "</style>\n",
       "<table border=\"1\" class=\"dataframe\">\n",
       "  <thead>\n",
       "    <tr style=\"text-align: right;\">\n",
       "      <th></th>\n",
       "      <th>GP_base</th>\n",
       "      <th>W_base</th>\n",
       "      <th>L_base</th>\n",
       "      <th>W_PCT_base</th>\n",
       "      <th>MIN_base</th>\n",
       "      <th>FGM_base</th>\n",
       "      <th>FGA_base</th>\n",
       "      <th>FG_PCT_base</th>\n",
       "      <th>FG3M_base</th>\n",
       "      <th>FG3A_base</th>\n",
       "      <th>...</th>\n",
       "      <th>DEF_RATING_RANK_defense</th>\n",
       "      <th>DREB_RANK_defense</th>\n",
       "      <th>DREB_PCT_RANK_defense</th>\n",
       "      <th>STL_RANK_defense</th>\n",
       "      <th>BLK_RANK_defense</th>\n",
       "      <th>OPP_PTS_OFF_TOV_RANK_defense</th>\n",
       "      <th>OPP_PTS_2ND_CHANCE_RANK_defense</th>\n",
       "      <th>OPP_PTS_FB_RANK_defense</th>\n",
       "      <th>OPP_PTS_PAINT_RANK_defense</th>\n",
       "      <th>Teams</th>\n",
       "    </tr>\n",
       "  </thead>\n",
       "  <tbody>\n",
       "    <tr>\n",
       "      <th>0</th>\n",
       "      <td>1</td>\n",
       "      <td>1</td>\n",
       "      <td>0</td>\n",
       "      <td>1.0</td>\n",
       "      <td>48.0</td>\n",
       "      <td>42</td>\n",
       "      <td>97</td>\n",
       "      <td>0.433</td>\n",
       "      <td>11</td>\n",
       "      <td>37</td>\n",
       "      <td>...</td>\n",
       "      <td>1</td>\n",
       "      <td>1</td>\n",
       "      <td>1</td>\n",
       "      <td>3</td>\n",
       "      <td>3</td>\n",
       "      <td>1</td>\n",
       "      <td>1</td>\n",
       "      <td>4</td>\n",
       "      <td>3</td>\n",
       "      <td>BOS</td>\n",
       "    </tr>\n",
       "    <tr>\n",
       "      <th>1</th>\n",
       "      <td>1</td>\n",
       "      <td>1</td>\n",
       "      <td>0</td>\n",
       "      <td>1.0</td>\n",
       "      <td>48.0</td>\n",
       "      <td>42</td>\n",
       "      <td>95</td>\n",
       "      <td>0.442</td>\n",
       "      <td>7</td>\n",
       "      <td>26</td>\n",
       "      <td>...</td>\n",
       "      <td>2</td>\n",
       "      <td>2</td>\n",
       "      <td>3</td>\n",
       "      <td>3</td>\n",
       "      <td>1</td>\n",
       "      <td>4</td>\n",
       "      <td>3</td>\n",
       "      <td>2</td>\n",
       "      <td>1</td>\n",
       "      <td>GSW</td>\n",
       "    </tr>\n",
       "    <tr>\n",
       "      <th>2</th>\n",
       "      <td>1</td>\n",
       "      <td>0</td>\n",
       "      <td>1</td>\n",
       "      <td>0.0</td>\n",
       "      <td>48.0</td>\n",
       "      <td>33</td>\n",
       "      <td>91</td>\n",
       "      <td>0.363</td>\n",
       "      <td>10</td>\n",
       "      <td>37</td>\n",
       "      <td>...</td>\n",
       "      <td>4</td>\n",
       "      <td>4</td>\n",
       "      <td>4</td>\n",
       "      <td>1</td>\n",
       "      <td>2</td>\n",
       "      <td>3</td>\n",
       "      <td>4</td>\n",
       "      <td>3</td>\n",
       "      <td>4</td>\n",
       "      <td>OKC</td>\n",
       "    </tr>\n",
       "    <tr>\n",
       "      <th>3</th>\n",
       "      <td>1</td>\n",
       "      <td>0</td>\n",
       "      <td>1</td>\n",
       "      <td>0.0</td>\n",
       "      <td>48.0</td>\n",
       "      <td>34</td>\n",
       "      <td>87</td>\n",
       "      <td>0.391</td>\n",
       "      <td>5</td>\n",
       "      <td>26</td>\n",
       "      <td>...</td>\n",
       "      <td>3</td>\n",
       "      <td>2</td>\n",
       "      <td>2</td>\n",
       "      <td>2</td>\n",
       "      <td>3</td>\n",
       "      <td>2</td>\n",
       "      <td>2</td>\n",
       "      <td>1</td>\n",
       "      <td>1</td>\n",
       "      <td>PHI</td>\n",
       "    </tr>\n",
       "    <tr>\n",
       "      <th>4</th>\n",
       "      <td>1</td>\n",
       "      <td>0</td>\n",
       "      <td>1</td>\n",
       "      <td>0.0</td>\n",
       "      <td>48.0</td>\n",
       "      <td>41</td>\n",
       "      <td>90</td>\n",
       "      <td>0.456</td>\n",
       "      <td>10</td>\n",
       "      <td>36</td>\n",
       "      <td>...</td>\n",
       "      <td>19</td>\n",
       "      <td>9</td>\n",
       "      <td>16</td>\n",
       "      <td>12</td>\n",
       "      <td>20</td>\n",
       "      <td>26</td>\n",
       "      <td>22</td>\n",
       "      <td>10</td>\n",
       "      <td>12</td>\n",
       "      <td>ATL</td>\n",
       "    </tr>\n",
       "  </tbody>\n",
       "</table>\n",
       "<p>5 rows × 240 columns</p>\n",
       "</div>"
      ],
      "text/plain": [
       "   GP_base  W_base  L_base  W_PCT_base  MIN_base  FGM_base  FGA_base  \\\n",
       "0        1       1       0         1.0      48.0        42        97   \n",
       "1        1       1       0         1.0      48.0        42        95   \n",
       "2        1       0       1         0.0      48.0        33        91   \n",
       "3        1       0       1         0.0      48.0        34        87   \n",
       "4        1       0       1         0.0      48.0        41        90   \n",
       "\n",
       "   FG_PCT_base  FG3M_base  FG3A_base  ...  DEF_RATING_RANK_defense  \\\n",
       "0        0.433         11         37  ...                        1   \n",
       "1        0.442          7         26  ...                        2   \n",
       "2        0.363         10         37  ...                        4   \n",
       "3        0.391          5         26  ...                        3   \n",
       "4        0.456         10         36  ...                       19   \n",
       "\n",
       "   DREB_RANK_defense  DREB_PCT_RANK_defense  STL_RANK_defense  \\\n",
       "0                  1                      1                 3   \n",
       "1                  2                      3                 3   \n",
       "2                  4                      4                 1   \n",
       "3                  2                      2                 2   \n",
       "4                  9                     16                12   \n",
       "\n",
       "   BLK_RANK_defense  OPP_PTS_OFF_TOV_RANK_defense  \\\n",
       "0                 3                             1   \n",
       "1                 1                             4   \n",
       "2                 2                             3   \n",
       "3                 3                             2   \n",
       "4                20                            26   \n",
       "\n",
       "   OPP_PTS_2ND_CHANCE_RANK_defense  OPP_PTS_FB_RANK_defense  \\\n",
       "0                                1                        4   \n",
       "1                                3                        2   \n",
       "2                                4                        3   \n",
       "3                                2                        1   \n",
       "4                               22                       10   \n",
       "\n",
       "   OPP_PTS_PAINT_RANK_defense  Teams  \n",
       "0                           3    BOS  \n",
       "1                           1    GSW  \n",
       "2                           4    OKC  \n",
       "3                           1    PHI  \n",
       "4                          12    ATL  \n",
       "\n",
       "[5 rows x 240 columns]"
      ]
     },
     "execution_count": 11,
     "metadata": {},
     "output_type": "execute_result"
    }
   ],
   "source": [
    "df_1.head()"
   ]
  },
  {
   "cell_type": "code",
   "execution_count": 12,
   "id": "8a60aacc-33ec-456e-924b-53171111d390",
   "metadata": {},
   "outputs": [
    {
     "data": {
      "text/plain": [
       "Timestamp('2024-04-04 00:00:00')"
      ]
     },
     "execution_count": 12,
     "metadata": {},
     "output_type": "execute_result"
    }
   ],
   "source": [
    "df_2['Date'].max()"
   ]
  },
  {
   "cell_type": "markdown",
   "id": "0bcd9236-c289-484e-a8bc-22737be4e189",
   "metadata": {},
   "source": [
    "### Combining with the Most Recent Data"
   ]
  },
  {
   "cell_type": "markdown",
   "id": "4f689b9c-289c-4ef2-a539-bef4721eb66b",
   "metadata": {},
   "source": [
    "- Selecting the latest date and earlier date in df_1 and df_2 and concat them"
   ]
  },
  {
   "cell_type": "code",
   "execution_count": 198,
   "id": "dbaa005e-728c-4785-9024-5a79507c9495",
   "metadata": {},
   "outputs": [],
   "source": [
    "latest = df_1['Date'].max() # Getting the last day in prev version\n",
    "df_2 = df_2[df_2['Date'] > latest]\n",
    "df_2 = df_2[df_2['Date'] != '2024-04-04'] # this needs to be updated\n",
    "df_2 = process(df_2)\n",
    "nba = pd.concat([df_1,df_2], axis=0, ignore_index=True)\n",
    "nba = nba.reset_index(drop=True)"
   ]
  },
  {
   "cell_type": "code",
   "execution_count": 199,
   "id": "86a717c5-93f3-4abe-8971-2dd2c1c409ee",
   "metadata": {},
   "outputs": [
    {
     "data": {
      "text/plain": [
       "True"
      ]
     },
     "execution_count": 199,
     "metadata": {},
     "output_type": "execute_result"
    }
   ],
   "source": [
    "nba.shape == nba.drop_duplicates().shape"
   ]
  },
  {
   "cell_type": "code",
   "execution_count": 201,
   "id": "e599f0ad",
   "metadata": {
    "scrolled": true
   },
   "outputs": [
    {
     "data": {
      "text/plain": [
       "0       2018-10-16\n",
       "1       2018-10-16\n",
       "2       2018-10-16\n",
       "3       2018-10-16\n",
       "4       2018-10-17\n",
       "           ...    \n",
       "33687   2024-04-03\n",
       "33688   2024-04-03\n",
       "33689   2024-04-03\n",
       "33690   2024-04-03\n",
       "33691   2024-04-03\n",
       "Name: Date, Length: 33692, dtype: datetime64[ns]"
      ]
     },
     "execution_count": 201,
     "metadata": {},
     "output_type": "execute_result"
    }
   ],
   "source": [
    "nba['Date']"
   ]
  },
  {
   "cell_type": "code",
   "execution_count": 203,
   "id": "7044660b-3406-4c6e-951b-10a5af25f0ad",
   "metadata": {},
   "outputs": [
    {
     "data": {
      "text/plain": [
       "array(['BOS', 'GSW', 'OKC', 'PHI', 'ATL', 'BRK', 'CHO', 'CLE', 'DAL',\n",
       "       'DEN', 'DET', 'HOU', 'IND', 'LAC', 'MEM', 'MIA', 'MIL', 'MIN',\n",
       "       'NOP', 'NYK', 'ORL', 'PHO', 'SAC', 'SAS', 'TOR', 'UTA', 'CHI',\n",
       "       'LAL', 'POR', 'WAS'], dtype=object)"
      ]
     },
     "execution_count": 203,
     "metadata": {},
     "output_type": "execute_result"
    }
   ],
   "source": [
    "nba['Teams'].unique()"
   ]
  },
  {
   "cell_type": "code",
   "execution_count": 204,
   "id": "3f616a40",
   "metadata": {},
   "outputs": [],
   "source": [
    "save_path = '/Users/benjamincheng/Documents/GitHub/Sports-Betting/nba_api/data/teams_stats/'\n",
    "nba.to_csv(save_path + 'processed_cum_2018_2024.csv')"
   ]
  },
  {
   "cell_type": "code",
   "execution_count": 205,
   "id": "9aad94fa",
   "metadata": {},
   "outputs": [],
   "source": [
    "save_path = '/Users/benjamincheng/Documents/GitHub/Sports-Betting/nba_api/data/teams_stats/'\n",
    "df_2.to_csv(save_path + '2024_04_04.csv')"
   ]
  }
 ],
 "metadata": {
  "kernelspec": {
   "display_name": "Python 3 (ipykernel)",
   "language": "python",
   "name": "python3"
  },
  "language_info": {
   "codemirror_mode": {
    "name": "ipython",
    "version": 3
   },
   "file_extension": ".py",
   "mimetype": "text/x-python",
   "name": "python",
   "nbconvert_exporter": "python",
   "pygments_lexer": "ipython3",
   "version": "3.10.12"
  }
 },
 "nbformat": 4,
 "nbformat_minor": 5
}
