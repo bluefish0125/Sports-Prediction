{
<<<<<<< Updated upstream
 "cells": [
  {
   "cell_type": "markdown",
   "id": "a09e8273",
   "metadata": {},
   "source": [
    "### January to March 2024 Predictions"
   ]
  },
  {
   "cell_type": "code",
   "execution_count": 1,
   "id": "39a05352",
   "metadata": {},
   "outputs": [],
   "source": [
    "import pandas as pd\n",
    "import numpy as np\n",
    "import sklearn\n",
    "import torch.nn as nn\n",
    "import sklearn.model_selection\n",
    "from sklearn import linear_model\n",
    "from sklearn.preprocessing import MinMaxScaler\n",
    "import pickle\n",
    "from sklearn.metrics import accuracy_score,f1_score\n",
    "pd.set_option('display.max_columns', None)\n",
    "pd.set_option('display.max_rows', None)"
   ]
  },
  {
   "cell_type": "code",
   "execution_count": 2,
   "id": "16fa056a",
   "metadata": {},
   "outputs": [],
   "source": [
    "df = pd.read_csv(\"/Users/benjamincheng/Downloads/processed_2019_2024 (1).csv\", index_col=0)"
   ]
  },
  {
   "cell_type": "code",
   "execution_count": 3,
   "id": "221bd198",
   "metadata": {},
   "outputs": [],
   "source": [
    "folder_path = \"/Users/benjamincheng/Documents/GitHub/Sports-Betting/nba_api/data/teams_stats/processed_cumulative_season_stats_2019_2024.csv\"\n",
    "nba = pd.read_csv(folder_path, index_col=0)"
   ]
  },
  {
   "cell_type": "code",
   "execution_count": 4,
   "id": "39cbd8f9",
   "metadata": {
    "scrolled": true
   },
   "outputs": [],
   "source": [
    "# use list comphrension to call games from 3/18\n",
    "january_march_games = df[df['date_next'].str.contains('2024-03') | df['date_next'].str.contains('2024-02')|df['date_next'].str.contains('2024-01')]\n",
    "january_march_games = january_march_games.reset_index(drop=True)"
   ]
  },
  {
   "cell_type": "code",
   "execution_count": 5,
   "id": "dc693e80",
   "metadata": {},
   "outputs": [],
   "source": [
    "# Predictors chosen using sequential feature selector trained on ridge classifier\n",
    "save_path = '/Users/benjamincheng/Documents/GitHub/Sports-Betting/ml_notebooks/factors/'\n",
    "file_name = 'predictors_ridge_classifier_70_predictors_87.1%_2019_2024.txt'\n",
    "file_path = save_path + file_name\n",
    "with open(file_path, 'r') as f:\n",
    "    predictors = f.read()\n",
    "    \n",
    "# model\n",
    "save_path = '/Users/benjamincheng/Documents/GitHub/Sports-Betting/ml_notebooks/weights/'\n",
    "file_name = 'ridge_classifier_70_predictors_87.1%_2019_2024.pkl'\n",
    "file_path = save_path + file_name\n",
    "with open(file_path, 'rb') as f:\n",
    "    model = pickle.load(f)"
   ]
  },
  {
   "cell_type": "code",
   "execution_count": 6,
   "id": "e4b17c38",
   "metadata": {},
   "outputs": [],
   "source": [
    "predictors = predictors.split(',')[:-1]"
   ]
  },
  {
   "cell_type": "code",
   "execution_count": 7,
   "id": "e0a93308",
   "metadata": {},
   "outputs": [],
   "source": [
    "X = march_games[predictors]\n",
    "predictions = model.predict(X)\n",
    "result = pd.Series(predictions, index = X.index)\n",
    "final = pd.concat([march_games['Teams_x'], result], axis=1)\n",
    "final.columns = ['Teams', 'Predictions']\n",
    "final['Actual'] = march_games['target_x']"
   ]
  },
  {
   "cell_type": "code",
   "execution_count": 8,
   "id": "931bd346",
   "metadata": {},
   "outputs": [
    {
     "data": {
      "text/plain": [
       "0.7857142857142857"
      ]
     },
     "execution_count": 8,
     "metadata": {},
     "output_type": "execute_result"
    }
   ],
   "source": [
    "accuracy = accuracy_score(final['Actual'], final['Predictions'])\n",
    "accuracy"
   ]
  }
 ],
 "metadata": {
  "kernelspec": {
   "display_name": "Python 3 (ipykernel)",
   "language": "python",
   "name": "python3"
  },
  "language_info": {
   "codemirror_mode": {
    "name": "ipython",
    "version": 3
   },
   "file_extension": ".py",
   "mimetype": "text/x-python",
   "name": "python",
   "nbconvert_exporter": "python",
   "pygments_lexer": "ipython3",
   "version": "3.10.12"
  }
 },
=======
 "cells": [],
 "metadata": {},
>>>>>>> Stashed changes
 "nbformat": 4,
 "nbformat_minor": 5
}
