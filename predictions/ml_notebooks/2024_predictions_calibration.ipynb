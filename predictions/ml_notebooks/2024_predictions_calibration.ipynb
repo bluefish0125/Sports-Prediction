{
 "cells": [
  {
   "cell_type": "code",
   "execution_count": 1,
   "id": "36b33026",
   "metadata": {},
   "outputs": [],
   "source": [
    "import pandas as pd\n",
    "import numpy as np\n",
    "import sklearn\n",
    "import torch.nn as nn\n",
    "import sklearn.model_selection\n",
    "from sklearn import linear_model\n",
    "from sklearn.preprocessing import MinMaxScaler\n",
    "import pickle\n",
    "from sklearn.metrics import accuracy_score,f1_score\n",
    "pd.set_option('display.max_columns', None)"
   ]
  },
  {
   "cell_type": "code",
   "execution_count": 19,
   "id": "32456590",
   "metadata": {},
   "outputs": [
    {
     "data": {
      "text/plain": [
       "0.7005012531328321"
      ]
     },
     "execution_count": 19,
     "metadata": {},
     "output_type": "execute_result"
    }
   ],
   "source": [
    "df = pd.read_csv(\"/Users/benjamincheng/Downloads/cleaned_2019_2024_71.8%_odds.csv\", index_col=0)\n",
    "# use list comphrension to call games from 3/18\n",
    "january_march_games = df[df['date_next'].str.contains('2024-03') | df['date_next'].str.contains('2024-02')|df['date_next'].str.contains('2024-01')]\n",
    "january_march_games = january_march_games.reset_index(drop=True)\n",
    "\n",
    "# Predictors chosen using sequential feature selector trained on ridge classifier\n",
    "save_path = '/Users/benjamincheng/Documents/GitHub/Sports-Betting/ml_notebooks/factors/'\n",
    "file_name = 'calibrated_predictors_ridge_classifier_70_predictors_20.32%_2019_2024.txt'\n",
    "file_path = save_path + file_name\n",
    "with open(file_path, 'r') as f:\n",
    "    predictors = f.read()\n",
    "    \n",
    "# model\n",
    "save_path = '/Users/benjamincheng/Documents/GitHub/Sports-Betting/ml_notebooks/weights/'\n",
    "file_name = 'calibrated_ridge_classifier_70_predictors_20.32%_2019_2024.pkl'\n",
    "file_path = save_path + file_name\n",
    "with open(file_path, 'rb') as f:\n",
    "    clf = pickle.load(f)\n",
    "\n",
    "predictors = predictors.split(',')[:-1]\n",
    "X = january_march_games[predictors]\n",
    "predictions = clf.predict(X)\n",
    "result = pd.Series(predictions, index = X.index)\n",
    "final = pd.concat([january_march_games['Teams_x'], result], axis=1)\n",
    "final.columns = ['Teams', 'Predictions']\n",
    "final['Actual'] = january_march_games['target_x']\n",
    "\n",
    "accuracy = accuracy_score(final['Actual'], final['Predictions'])\n",
    "accuracy"
   ]
  },
  {
   "cell_type": "code",
   "execution_count": 20,
   "id": "7288a9f6",
   "metadata": {
    "scrolled": true
   },
   "outputs": [],
   "source": [
    "probabilities = clf.predict_proba(X)[:, 1]\n",
    "result = pd.DataFrame({\n",
    "    'Predictions': predictions,\n",
    "    'Probabilities': probabilities,  # probabilities of positives\n",
    "    'Actual': january_march_games['target_x']\n",
    "}, index=X.index)\n",
    "\n",
    "# Concatenate the predictions and probabilities with the original data\n",
    "final = pd.concat([january_march_games['date_next'],january_march_games['Teams_x'], result], axis=1)\n",
    "final.columns = ['Date','Teams', 'Predictions', 'Probabilities', 'Actual']\n",
    "\n",
    "# loss = final[final['Predictions']==0]\n",
    "# loss['Probabilities'] = 1 - loss['Probabilities']\n",
    "# win = final[final['Predictions']==1]\n",
    "\n",
    "# complete = pd.concat([win,loss])\n",
    "# complete = complete.reset_index(drop=True)"
   ]
  },
  {
   "cell_type": "code",
   "execution_count": 22,
   "id": "e2788a6f",
   "metadata": {},
   "outputs": [],
   "source": [
    "save_path = \"/Users/benjamincheng/Documents/GitHub/Sports-Betting/risk_management/\"\n",
    "file_name = \"calibrated_2024_predictions.csv\"\n",
    "file_path = save_path + file_name\n",
    "final.to_csv(file_path)"
   ]
  }
 ],
 "metadata": {
  "kernelspec": {
   "display_name": "Python 3 (ipykernel)",
   "language": "python",
   "name": "python3"
  },
  "language_info": {
   "codemirror_mode": {
    "name": "ipython",
    "version": 3
   },
   "file_extension": ".py",
   "mimetype": "text/x-python",
   "name": "python",
   "nbconvert_exporter": "python",
   "pygments_lexer": "ipython3",
   "version": "3.10.12"
  }
 },
 "nbformat": 4,
 "nbformat_minor": 5
}
