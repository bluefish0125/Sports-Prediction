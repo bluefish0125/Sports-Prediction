{
 "cells": [
  {
   "cell_type": "code",
   "execution_count": 1,
   "id": "bd6415dc",
   "metadata": {},
   "outputs": [],
   "source": [
    "import pandas as pd\n",
    "import numpy as np\n",
    "import sklearn\n",
    "import torch.nn as nn\n",
    "import sklearn.model_selection\n",
    "from sklearn import linear_model\n",
    "from sklearn.preprocessing import MinMaxScaler\n",
    "import pickle\n",
    "from sklearn.metrics import accuracy_score,f1_score\n",
    "pd.set_option('display.max_columns', None)"
   ]
  },
  {
   "cell_type": "code",
   "execution_count": 2,
   "id": "29137096",
   "metadata": {},
   "outputs": [
    {
     "data": {
      "text/plain": [
       "0.6596330275229357"
      ]
     },
     "execution_count": 2,
     "metadata": {},
     "output_type": "execute_result"
    }
   ],
   "source": [
    "df = pd.read_csv(\"/Users/benjamincheng/Downloads/processed_2019_2024_4.csv\", index_col=0)\n",
    "# use list comphrension to call games from 3/18\n",
    "january_march_games = df[df['date_next'].str.contains('2024-03') | df['date_next'].str.contains('2024-02')|df['date_next'].str.contains('2024-01')]\n",
    "january_march_games = january_march_games.reset_index(drop=True)\n",
    "\n",
    "# Predictors chosen using sequential feature selector trained on ridge classifier\n",
    "save_path = '/Users/benjamincheng/Documents/GitHub/Sports-Betting/ml_notebooks/factors/'\n",
    "file_name = 'predictors_ridge_classifier_70_predictors_65.7%_2019_2024.txt'\n",
    "file_path = save_path + file_name\n",
    "with open(file_path, 'r') as f:\n",
    "    predictors = f.read()\n",
    "    \n",
    "# model\n",
    "save_path = '/Users/benjamincheng/Documents/GitHub/Sports-Betting/ml_notebooks/weights/'\n",
    "file_name = 'ridge_classifier_70_predictors_65.7%_2019_2024.pkl'\n",
    "file_path = save_path + file_name\n",
    "with open(file_path, 'rb') as f:\n",
    "    model = pickle.load(f)\n",
    "\n",
    "predictors = predictors.split(',')[:-1]\n",
    "X = january_march_games[predictors]\n",
    "predictions = model.predict(X)\n",
    "result = pd.Series(predictions, index = X.index)\n",
    "final = pd.concat([january_march_games['Teams_x'], result], axis=1)\n",
    "final.columns = ['Teams', 'Predictions']\n",
    "final['Actual'] = january_march_games['target_x']\n",
    "\n",
    "accuracy = accuracy_score(final['Actual'], final['Predictions'])\n",
    "accuracy"
   ]
  },
  {
   "cell_type": "code",
   "execution_count": 10,
   "id": "7154e953",
   "metadata": {},
   "outputs": [
    {
     "data": {
      "text/plain": [
       "0.7042606516290727"
      ]
     },
     "execution_count": 10,
     "metadata": {},
     "output_type": "execute_result"
    }
   ],
   "source": [
    "df = pd.read_csv(\"/Users/benjamincheng/Downloads/cleaned_2019_2024_71.8%_odds.csv\", index_col=0)\n",
    "# use list comphrension to call games from 3/18\n",
    "january_march_games = df[df['date_next'].str.contains('2024-03') | df['date_next'].str.contains('2024-02')|df['date_next'].str.contains('2024-01')]\n",
    "january_march_games = january_march_games.reset_index(drop=True)\n",
    "\n",
    "# Predictors chosen using sequential feature selector trained on ridge classifier\n",
    "save_path = '/Users/benjamincheng/Documents/GitHub/Sports-Betting/ml_notebooks/factors/'\n",
    "file_name = 'predictors_ridge_classifier_70_predictors_71.8%_2019_2024.txt'\n",
    "file_path = save_path + file_name\n",
    "with open(file_path, 'r') as f:\n",
    "    predictors = f.read()\n",
    "    \n",
    "# model\n",
    "save_path = '/Users/benjamincheng/Documents/GitHub/Sports-Betting/ml_notebooks/weights/'\n",
    "file_name = 'ridge_classifier_70_predictors_71.8%_2019_2024.pkl'\n",
    "file_path = save_path + file_name\n",
    "with open(file_path, 'rb') as f:\n",
    "    model = pickle.load(f)\n",
    "\n",
    "predictors = predictors.split(',')[:-1]\n",
    "X = january_march_games[predictors]\n",
    "predictions = model.predict(X)\n",
    "result = pd.Series(predictions, index = X.index)\n",
    "final = pd.concat([january_march_games['Teams_x'], result], axis=1)\n",
    "final.columns = ['Teams', 'Predictions']\n",
    "final['Actual'] = january_march_games['target_x']\n",
    "\n",
    "accuracy = accuracy_score(final['Actual'], final['Predictions'])\n",
    "accuracy"
   ]
  },
  {
   "cell_type": "code",
   "execution_count": 11,
   "id": "558a8480",
   "metadata": {},
   "outputs": [
    {
     "name": "stderr",
     "output_type": "stream",
     "text": [
      "/var/folders/99/zv3w4flx1598dxlknc099kfr0000gn/T/ipykernel_31359/3215053033.py:15: SettingWithCopyWarning: \n",
      "A value is trying to be set on a copy of a slice from a DataFrame.\n",
      "Try using .loc[row_indexer,col_indexer] = value instead\n",
      "\n",
      "See the caveats in the documentation: https://pandas.pydata.org/pandas-docs/stable/user_guide/indexing.html#returning-a-view-versus-a-copy\n",
      "  loss['Probabilities'] = 1 - loss['Probabilities']\n"
     ]
    }
   ],
   "source": [
    "decision_scores = model.decision_function(X)\n",
    "probabilities = 1 / (1 + np.exp(-decision_scores))\n",
    "\n",
    "result = pd.DataFrame({\n",
    "    'Predictions': predictions,\n",
    "    'Probabilities': probabilities,  # Assuming you want probabilities for the positive class\n",
    "    'Actual': january_march_games['target_x']\n",
    "}, index=X.index)\n",
    "\n",
    "# Concatenate the predictions and probabilities with the original data\n",
    "final = pd.concat([january_march_games['date_next'],january_march_games['Teams_x'], result], axis=1)\n",
    "final.columns = ['Date','Teams', 'Predictions', 'Probabilities', 'Actual']\n",
    "\n",
    "loss = final[final['Predictions']==0]\n",
    "loss['Probabilities'] = 1 - loss['Probabilities']\n",
    "win = final[final['Predictions']==1]\n",
    "\n",
    "complete = pd.concat([win,loss])\n",
    "complete = complete.reset_index(drop=True)"
   ]
  },
  {
   "cell_type": "code",
   "execution_count": 12,
   "id": "5977e892",
   "metadata": {},
   "outputs": [
    {
     "data": {
      "text/html": [
       "<div>\n",
       "<style scoped>\n",
       "    .dataframe tbody tr th:only-of-type {\n",
       "        vertical-align: middle;\n",
       "    }\n",
       "\n",
       "    .dataframe tbody tr th {\n",
       "        vertical-align: top;\n",
       "    }\n",
       "\n",
       "    .dataframe thead th {\n",
       "        text-align: right;\n",
       "    }\n",
       "</style>\n",
       "<table border=\"1\" class=\"dataframe\">\n",
       "  <thead>\n",
       "    <tr style=\"text-align: right;\">\n",
       "      <th></th>\n",
       "      <th>Date</th>\n",
       "      <th>Teams</th>\n",
       "      <th>Predictions</th>\n",
       "      <th>Probabilities</th>\n",
       "      <th>Actual</th>\n",
       "    </tr>\n",
       "  </thead>\n",
       "  <tbody>\n",
       "    <tr>\n",
       "      <th>0</th>\n",
       "      <td>2024-01-09</td>\n",
       "      <td>LAL</td>\n",
       "      <td>1</td>\n",
       "      <td>0.527675</td>\n",
       "      <td>1</td>\n",
       "    </tr>\n",
       "    <tr>\n",
       "      <th>1</th>\n",
       "      <td>2024-01-01</td>\n",
       "      <td>LAC</td>\n",
       "      <td>1</td>\n",
       "      <td>0.568208</td>\n",
       "      <td>1</td>\n",
       "    </tr>\n",
       "    <tr>\n",
       "      <th>2</th>\n",
       "      <td>2024-01-01</td>\n",
       "      <td>HOU</td>\n",
       "      <td>1</td>\n",
       "      <td>0.587850</td>\n",
       "      <td>1</td>\n",
       "    </tr>\n",
       "    <tr>\n",
       "      <th>3</th>\n",
       "      <td>2024-01-01</td>\n",
       "      <td>DEN</td>\n",
       "      <td>1</td>\n",
       "      <td>0.733490</td>\n",
       "      <td>1</td>\n",
       "    </tr>\n",
       "    <tr>\n",
       "      <th>4</th>\n",
       "      <td>2024-01-02</td>\n",
       "      <td>PHI</td>\n",
       "      <td>1</td>\n",
       "      <td>0.643458</td>\n",
       "      <td>1</td>\n",
       "    </tr>\n",
       "    <tr>\n",
       "      <th>...</th>\n",
       "      <td>...</td>\n",
       "      <td>...</td>\n",
       "      <td>...</td>\n",
       "      <td>...</td>\n",
       "      <td>...</td>\n",
       "    </tr>\n",
       "    <tr>\n",
       "      <th>793</th>\n",
       "      <td>2024-02-29</td>\n",
       "      <td>UTA</td>\n",
       "      <td>0</td>\n",
       "      <td>0.577480</td>\n",
       "      <td>0</td>\n",
       "    </tr>\n",
       "    <tr>\n",
       "      <th>794</th>\n",
       "      <td>2024-02-29</td>\n",
       "      <td>ATL</td>\n",
       "      <td>0</td>\n",
       "      <td>0.508675</td>\n",
       "      <td>0</td>\n",
       "    </tr>\n",
       "    <tr>\n",
       "      <th>795</th>\n",
       "      <td>2024-02-29</td>\n",
       "      <td>SAS</td>\n",
       "      <td>0</td>\n",
       "      <td>0.656933</td>\n",
       "      <td>1</td>\n",
       "    </tr>\n",
       "    <tr>\n",
       "      <th>796</th>\n",
       "      <td>2024-02-28</td>\n",
       "      <td>NOP</td>\n",
       "      <td>0</td>\n",
       "      <td>0.555136</td>\n",
       "      <td>0</td>\n",
       "    </tr>\n",
       "    <tr>\n",
       "      <th>797</th>\n",
       "      <td>2024-02-29</td>\n",
       "      <td>NYK</td>\n",
       "      <td>0</td>\n",
       "      <td>0.524696</td>\n",
       "      <td>0</td>\n",
       "    </tr>\n",
       "  </tbody>\n",
       "</table>\n",
       "<p>798 rows × 5 columns</p>\n",
       "</div>"
      ],
      "text/plain": [
       "           Date Teams  Predictions  Probabilities  Actual\n",
       "0    2024-01-09   LAL            1       0.527675       1\n",
       "1    2024-01-01   LAC            1       0.568208       1\n",
       "2    2024-01-01   HOU            1       0.587850       1\n",
       "3    2024-01-01   DEN            1       0.733490       1\n",
       "4    2024-01-02   PHI            1       0.643458       1\n",
       "..          ...   ...          ...            ...     ...\n",
       "793  2024-02-29   UTA            0       0.577480       0\n",
       "794  2024-02-29   ATL            0       0.508675       0\n",
       "795  2024-02-29   SAS            0       0.656933       1\n",
       "796  2024-02-28   NOP            0       0.555136       0\n",
       "797  2024-02-29   NYK            0       0.524696       0\n",
       "\n",
       "[798 rows x 5 columns]"
      ]
     },
     "execution_count": 12,
     "metadata": {},
     "output_type": "execute_result"
    }
   ],
   "source": [
    "complete"
   ]
  },
  {
   "cell_type": "code",
   "execution_count": 13,
   "id": "dab73313",
   "metadata": {},
   "outputs": [
    {
     "data": {
      "text/plain": [
       "0.7052896725440806"
      ]
     },
     "execution_count": 13,
     "metadata": {},
     "output_type": "execute_result"
    }
   ],
   "source": [
    "accuracy_win = accuracy_score(win['Actual'], win['Predictions'])\n",
    "accuracy_win"
   ]
  },
  {
   "cell_type": "code",
   "execution_count": 14,
   "id": "e6b876de",
   "metadata": {},
   "outputs": [
    {
     "data": {
      "text/plain": [
       "0.7032418952618454"
      ]
     },
     "execution_count": 14,
     "metadata": {},
     "output_type": "execute_result"
    }
   ],
   "source": [
    "accuracy_loss = accuracy_score(loss['Actual'], loss['Predictions'])\n",
    "accuracy_loss"
   ]
  },
  {
   "cell_type": "code",
   "execution_count": 15,
   "id": "9bd1b30b",
   "metadata": {},
   "outputs": [],
   "source": [
    "save_path = \"/Users/benjamincheng/Documents/GitHub/Sports-Betting/risk_management/\"\n",
    "file_name = \"2024_predictions_win_only.csv\"\n",
    "file_path = save_path + file_name\n",
    "win.to_csv(file_path)"
   ]
  }
 ],
 "metadata": {
  "kernelspec": {
   "display_name": "Python 3 (ipykernel)",
   "language": "python",
   "name": "python3"
  },
  "language_info": {
   "codemirror_mode": {
    "name": "ipython",
    "version": 3
   },
   "file_extension": ".py",
   "mimetype": "text/x-python",
   "name": "python",
   "nbconvert_exporter": "python",
   "pygments_lexer": "ipython3",
   "version": "3.10.12"
  }
 },
 "nbformat": 4,
 "nbformat_minor": 5
}
