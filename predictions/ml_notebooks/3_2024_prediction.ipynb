{
 "cells": [
  {
   "cell_type": "markdown",
   "id": "88ef5fe4",
   "metadata": {},
   "source": [
    "### March 2024 Predictions"
   ]
  },
  {
   "cell_type": "code",
   "execution_count": 2,
   "id": "2387be2c",
   "metadata": {},
   "outputs": [],
   "source": [
    "import pandas as pd\n",
    "import numpy as np\n",
    "import sklearn\n",
    "import torch.nn as nn\n",
    "import sklearn.model_selection\n",
    "from sklearn import linear_model\n",
    "from sklearn.preprocessing import MinMaxScaler\n",
    "import pickle\n",
    "from sklearn.metrics import accuracy_score,f1_score\n",
    "pd.set_option('display.max_columns', None)\n",
    "pd.set_option('display.max_rows', None)"
   ]
  },
  {
   "cell_type": "code",
   "execution_count": 3,
   "id": "c451fd23",
   "metadata": {},
   "outputs": [
    {
     "data": {
      "text/plain": [
       "0.7857142857142857"
      ]
     },
     "execution_count": 3,
     "metadata": {},
     "output_type": "execute_result"
    }
   ],
   "source": [
    "df = pd.read_csv(\"/Users/benjamincheng/Downloads/processed_2019_2024 (1).csv\", index_col=0)\n",
    "folder_path = \"/Users/benjamincheng/Documents/GitHub/Sports-Betting/nba_api/data/teams_stats/processed_cumulative_season_stats_2019_2024.csv\"\n",
    "nba = pd.read_csv(folder_path, index_col=0)\n",
    "\n",
    "# use list comphrension to call games from 3/18\n",
    "march_games = df[df['date_next'].str.contains('2024-03')]\n",
    "march_games = march_games.reset_index(drop=True)\n",
    "\n",
    "# Predictors chosen using sequential feature selector trained on ridge classifier\n",
    "save_path = '/Users/benjamincheng/Documents/GitHub/Sports-Betting/ml_notebooks/factors/'\n",
    "file_name = 'predictors_ridge_classifier_70_predictors_87.1%_2019_2024.txt'\n",
    "file_path = save_path + file_name\n",
    "with open(file_path, 'r') as f:\n",
    "    predictors = f.read()\n",
    "    \n",
    "# model\n",
    "save_path = '/Users/benjamincheng/Documents/GitHub/Sports-Betting/ml_notebooks/weights/'\n",
    "file_name = 'ridge_classifier_70_predictors_87.1%_2019_2024.pkl'\n",
    "file_path = save_path + file_name\n",
    "with open(file_path, 'rb') as f:\n",
    "    model = pickle.load(f)\n",
    "\n",
    "predictors = predictors.split(',')[:-1]\n",
    "\n",
    "X = march_games[predictors]\n",
    "predictions = model.predict(X)\n",
    "result = pd.Series(predictions, index = X.index)\n",
    "final = pd.concat([march_games['Teams_x'], result], axis=1)\n",
    "final.columns = ['Teams', 'Predictions']\n",
    "final['Actual'] = march_games['target_x']\n",
    "\n",
    "accuracy = accuracy_score(final['Actual'], final['Predictions'])\n",
    "accuracy"
   ]
  },
  {
   "cell_type": "code",
   "execution_count": 5,
   "id": "6e568ceb",
   "metadata": {},
   "outputs": [
    {
     "data": {
      "text/plain": [
       "0.814935064935065"
      ]
     },
     "execution_count": 5,
     "metadata": {},
     "output_type": "execute_result"
    }
   ],
   "source": [
    "save_path = '/Users/benjamincheng/Downloads/'\n",
    "file_name = 'processed_2019_2024_1.csv'\n",
    "file_path = save_path + file_name\n",
    "df = pd.read_csv(file_path, index_col=0)\n",
    "march_games = df[df['date_next'].str.contains('2024-03')]\n",
    "march_games = march_games.reset_index(drop=True)\n",
    "\n",
    "save_path = '/Users/benjamincheng/Documents/GitHub/Sports-Betting/ml_notebooks/factors/'\n",
    "file_name = 'predictors_ridge_classifier_85_predictors_87.5%_2019_2024.txt'\n",
    "file_path = save_path + file_name\n",
    "with open(file_path, 'r') as f:\n",
    "    predictors = f.read()\n",
    "    \n",
    "# model\n",
    "save_path = '/Users/benjamincheng/Documents/GitHub/Sports-Betting/ml_notebooks/weights/'\n",
    "file_name = 'ridge_classifier_85_predictors_87.5%_2019_2024.pkl'\n",
    "file_path = save_path + file_name\n",
    "with open(file_path, 'rb') as f:\n",
    "    model = pickle.load(f)\n",
    "    \n",
    "predictors = predictors.split(',')[:-1]\n",
    "X = march_games[predictors]\n",
    "predictions = model.predict(X)\n",
    "result = pd.Series(predictions, index = X.index)\n",
    "final = pd.concat([march_games['Teams_x'], result], axis=1)\n",
    "final.columns = ['Teams', 'Predictions']\n",
    "final['Actual'] = march_games['target_x']\n",
    "accuracy = accuracy_score(final['Actual'], final['Predictions'])\n",
    "accuracy"
   ]
  }
 ],
 "metadata": {
  "kernelspec": {
   "display_name": "Python 3 (ipykernel)",
   "language": "python",
   "name": "python3"
  },
  "language_info": {
   "codemirror_mode": {
    "name": "ipython",
    "version": 3
   },
   "file_extension": ".py",
   "mimetype": "text/x-python",
   "name": "python",
   "nbconvert_exporter": "python",
   "pygments_lexer": "ipython3",
   "version": "3.10.12"
  }
 },
 "nbformat": 4,
 "nbformat_minor": 5
}
