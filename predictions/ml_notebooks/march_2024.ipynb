{
 "cells": [
  {
   "cell_type": "markdown",
   "id": "588429fd",
   "metadata": {},
   "source": [
    "### March 2024 Predictions"
   ]
  },
  {
   "cell_type": "code",
   "execution_count": 2,
   "id": "8731cd7d",
   "metadata": {},
   "outputs": [],
   "source": [
    "import pandas as pd\n",
    "import numpy as np\n",
    "import sklearn\n",
    "import torch.nn as nn\n",
    "import sklearn.model_selection\n",
    "from sklearn import linear_model\n",
    "from sklearn.preprocessing import MinMaxScaler\n",
    "import pickle\n",
    "from sklearn.metrics import accuracy_score,f1_score\n",
    "pd.set_option('display.max_columns', None)\n",
    "pd.set_option('display.max_rows', None)"
   ]
  },
  {
   "cell_type": "code",
   "execution_count": 27,
   "id": "71412991",
   "metadata": {},
   "outputs": [],
   "source": [
    "df = pd.read_csv(\"/Users/benjamincheng/Downloads/processed_2019_2024 (1).csv\", index_col=0)"
   ]
  },
  {
   "cell_type": "code",
   "execution_count": 28,
   "id": "2ca46c3c",
   "metadata": {
    "scrolled": true
   },
   "outputs": [],
   "source": [
    "# use list comphrension to call games from 3/18\n",
    "march_games = df[df['date_next'].str.contains('2024-03') | df['date_next'].str.contains('2024-3')]\n",
    "march_games = march_games.reset_index(drop=True)"
   ]
  },
  {
   "cell_type": "code",
   "execution_count": 29,
   "id": "1feb6d36",
   "metadata": {},
   "outputs": [
    {
     "data": {
      "text/plain": [
       "0      2024-03-01\n",
       "1      2024-03-01\n",
       "2      2024-03-01\n",
       "3      2024-03-01\n",
       "4      2024-03-01\n",
       "          ...    \n",
       "303    2024-03-20\n",
       "304    2024-03-20\n",
       "305    2024-03-20\n",
       "306    2024-03-20\n",
       "307    2024-03-19\n",
       "Name: date_next, Length: 308, dtype: object"
      ]
     },
     "execution_count": 29,
     "metadata": {},
     "output_type": "execute_result"
    }
   ],
   "source": [
    "march_games['date_next']"
   ]
  },
  {
   "cell_type": "code",
   "execution_count": 32,
   "id": "729b1238",
   "metadata": {},
   "outputs": [],
   "source": [
    "# Predictors chosen using sequential feature selector trained on ridge classifier\n",
    "with open('/Users/benjamincheng/Documents/GitHub/Sports-Betting/ml_notebooks/factors/predictors_ridge_classifier_70_predictors_87.0%_2019_2024.txt', 'r') as f:\n",
    "    predictors = f.read()\n",
    "# Ridge classifier used no hyperparameter tuning yet\n",
    "with open('/Users/benjamincheng/Documents/GitHub/Sports-Betting/ml_notebooks/weights/ridge_classifier_70_predictors_87.0%_2019_2024.pkl', 'rb') as f:\n",
    "    model = pickle.load(f)"
   ]
  },
  {
   "cell_type": "code",
   "execution_count": 33,
   "id": "5c726fbc",
   "metadata": {},
   "outputs": [],
   "source": [
    "predictors = predictors.split(',')[:-1]"
   ]
  },
  {
   "cell_type": "code",
   "execution_count": 36,
   "id": "560e9aef",
   "metadata": {},
   "outputs": [],
   "source": [
    "X = march_games[predictors]\n",
    "predictions = model.predict(X)\n",
    "result = pd.Series(predictions, index = X.index)\n",
    "final = pd.concat([march_games['Teams_x'], result], axis=1)\n",
    "final.columns = ['Teams', 'Predictions']\n",
    "final['Actual'] = march_games['target_x']"
   ]
  },
  {
   "cell_type": "code",
   "execution_count": 37,
   "id": "d0c4d341",
   "metadata": {},
   "outputs": [
    {
     "data": {
      "text/plain": [
       "0.8051948051948052"
      ]
     },
     "execution_count": 37,
     "metadata": {},
     "output_type": "execute_result"
    }
   ],
   "source": [
    "accuracy = accuracy_score(final['Actual'], final['Predictions'])\n",
    "accuracy"
   ]
  }
 ],
 "metadata": {
  "kernelspec": {
   "display_name": "Python 3 (ipykernel)",
   "language": "python",
   "name": "python3"
  },
  "language_info": {
   "codemirror_mode": {
    "name": "ipython",
    "version": 3
   },
   "file_extension": ".py",
   "mimetype": "text/x-python",
   "name": "python",
   "nbconvert_exporter": "python",
   "pygments_lexer": "ipython3",
   "version": "3.10.12"
  }
 },
 "nbformat": 4,
 "nbformat_minor": 5
}
